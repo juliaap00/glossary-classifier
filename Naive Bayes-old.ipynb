{
 "cells": [
  {
   "cell_type": "code",
   "execution_count": 145,
   "id": "4948b646",
   "metadata": {},
   "outputs": [],
   "source": [
    "import pandas as pd\n",
    "import numpy as np\n",
    "from sklearn.feature_extraction.text import TfidfVectorizer\n",
    "\n",
    "from sklearn.model_selection import train_test_split\n",
    "from sklearn.naive_bayes import MultinomialNB\n",
    "\n",
    "from sklearn.metrics import accuracy_score"
   ]
  },
  {
   "cell_type": "markdown",
   "id": "54a534db",
   "metadata": {},
   "source": [
    "## SOBRA\n"
   ]
  },
  {
   "cell_type": "code",
   "execution_count": 146,
   "id": "e3a0105f",
   "metadata": {},
   "outputs": [],
   "source": [
    "sport_df = pd.read_excel('glossary/deportes.xlsx', names = ['word', 'rank'] , usecols = [0,1])\n",
    "sport_df['class'] = 0\n",
    "\n",
    "health_df = pd.read_excel('glossary/salud.xlsx', names = ['word', 'rank'] , usecols = [0,1])\n",
    "health_df['class'] = 1\n",
    "\n",
    "politics_df = pd.read_excel('glossary/politica.xlsx', names = ['word', 'rank'] , usecols = [0,1])\n",
    "politics_df['class'] = 2"
   ]
  },
  {
   "cell_type": "code",
   "execution_count": 147,
   "id": "833e4992",
   "metadata": {},
   "outputs": [],
   "source": [
    "glossariy_df = pd.concat([sport_df, health_df, politics_df])\n",
    "glossariy_df = glossariy_df.drop_duplicates(subset='word', keep = False)\n",
    "glossariy_df.reset_index(drop=True, inplace=True)"
   ]
  },
  {
   "cell_type": "code",
   "execution_count": 148,
   "id": "6b087207",
   "metadata": {},
   "outputs": [],
   "source": [
    "df_list = [glossariy_df[glossariy_df['class'] == 0][:100], glossariy_df[glossariy_df['class'] == 1][:100], glossariy_df[glossariy_df['class'] == 2][:100]]\n",
    "\n",
    "glossariy_df = pd.concat(df_list, ignore_index=True)"
   ]
  },
  {
   "cell_type": "markdown",
   "id": "8ae9b580",
   "metadata": {},
   "source": [
    "## --------------------------------------------------"
   ]
  },
  {
   "cell_type": "code",
   "execution_count": 149,
   "id": "47453a6a",
   "metadata": {},
   "outputs": [],
   "source": [
    "train_df = pd.read_excel('./corpus/train.xlsx', usecols=[1,2])\n",
    "test_df = pd.read_excel('./corpus/test.xlsx', usecols=[1,2])"
   ]
  },
  {
   "cell_type": "markdown",
   "id": "f9704aec",
   "metadata": {},
   "source": [
    "1.- Poner textos de train y test procesados sin stop words en un csv anotando al aldo su clase, divididos\n",
    "2.- Glosario solo con palabras y sus respectivas clses\n"
   ]
  },
  {
   "cell_type": "markdown",
   "id": "7d79ba0f",
   "metadata": {},
   "source": [
    "### Naive Bayes Theorem\n",
    "\n",
    "Crear matriz TFIDF \n",
    "Etiquetado del texto\n",
    "One hot encodign de las clases\n",
    "Cosntruccion del modelo\n",
    "\n",
    "    Model Building\n",
    "    classifier = MultinomialNB()\n",
    "    classifier.fit(tfidf,class_in_int)"
   ]
  },
  {
   "cell_type": "markdown",
   "id": "d906ac0f",
   "metadata": {},
   "source": [
    "Multinomial – It is used for Discrete Counts. The one we described in the example above is an example of Multinomial Type Naïve Bayes.\n",
    "https://hands-on.cloud/implementing-naive-bayes-classification-using-python/"
   ]
  },
  {
   "cell_type": "code",
   "execution_count": 150,
   "id": "0d16d26c",
   "metadata": {},
   "outputs": [],
   "source": [
    "myvocabulary = list(glossariy_df['word'])"
   ]
  },
  {
   "cell_type": "code",
   "execution_count": 151,
   "id": "5c6bda3e",
   "metadata": {},
   "outputs": [],
   "source": [
    "vectorizer = TfidfVectorizer(vocabulary = myvocabulary)\n",
    "x_train = vectorizer.fit_transform(train_df.iloc[:,0])\n",
    "x_train = x_train.toarray()\n",
    "\n",
    "x_test  = vectorizer.transform(test_df.iloc[:,0])\n",
    "x_test = x_test.toarray()\n",
    "y_train = df_train.iloc[:,1]\n",
    "\n",
    "y_test  = df_train.iloc[:,1]\n"
   ]
  },
  {
   "cell_type": "code",
   "execution_count": 152,
   "id": "5f780c6a",
   "metadata": {},
   "outputs": [
    {
     "data": {
      "text/html": [
       "<div>\n",
       "<style scoped>\n",
       "    .dataframe tbody tr th:only-of-type {\n",
       "        vertical-align: middle;\n",
       "    }\n",
       "\n",
       "    .dataframe tbody tr th {\n",
       "        vertical-align: top;\n",
       "    }\n",
       "\n",
       "    .dataframe thead th {\n",
       "        text-align: right;\n",
       "    }\n",
       "</style>\n",
       "<table border=\"1\" class=\"dataframe\">\n",
       "  <thead>\n",
       "    <tr style=\"text-align: right;\">\n",
       "      <th></th>\n",
       "      <th>equipos</th>\n",
       "      <th>juegos</th>\n",
       "      <th>arco</th>\n",
       "      <th>tiro</th>\n",
       "      <th>federación</th>\n",
       "      <th>balón</th>\n",
       "      <th>oro</th>\n",
       "      <th>set</th>\n",
       "      <th>brown</th>\n",
       "      <th>serbia</th>\n",
       "      <th>...</th>\n",
       "      <th>franja</th>\n",
       "      <th>socialista</th>\n",
       "      <th>fernández</th>\n",
       "      <th>ámbito</th>\n",
       "      <th>judicial</th>\n",
       "      <th>militares</th>\n",
       "      <th>responde</th>\n",
       "      <th>calvo</th>\n",
       "      <th>carmen calvo</th>\n",
       "      <th>afirmado</th>\n",
       "    </tr>\n",
       "  </thead>\n",
       "  <tbody>\n",
       "    <tr>\n",
       "      <th>0</th>\n",
       "      <td>0.0</td>\n",
       "      <td>0.0</td>\n",
       "      <td>0.0</td>\n",
       "      <td>0.0</td>\n",
       "      <td>0.000000</td>\n",
       "      <td>0.0</td>\n",
       "      <td>0.0</td>\n",
       "      <td>0.000000</td>\n",
       "      <td>0.0</td>\n",
       "      <td>0.0</td>\n",
       "      <td>...</td>\n",
       "      <td>0.0</td>\n",
       "      <td>0.0</td>\n",
       "      <td>0.0</td>\n",
       "      <td>0.0</td>\n",
       "      <td>0.0</td>\n",
       "      <td>0.0</td>\n",
       "      <td>0.0</td>\n",
       "      <td>0.0</td>\n",
       "      <td>0.0</td>\n",
       "      <td>0.0</td>\n",
       "    </tr>\n",
       "    <tr>\n",
       "      <th>1</th>\n",
       "      <td>0.0</td>\n",
       "      <td>0.0</td>\n",
       "      <td>0.0</td>\n",
       "      <td>0.0</td>\n",
       "      <td>0.000000</td>\n",
       "      <td>0.0</td>\n",
       "      <td>0.0</td>\n",
       "      <td>0.000000</td>\n",
       "      <td>0.0</td>\n",
       "      <td>0.0</td>\n",
       "      <td>...</td>\n",
       "      <td>0.0</td>\n",
       "      <td>0.0</td>\n",
       "      <td>0.0</td>\n",
       "      <td>0.0</td>\n",
       "      <td>0.0</td>\n",
       "      <td>0.0</td>\n",
       "      <td>0.0</td>\n",
       "      <td>0.0</td>\n",
       "      <td>0.0</td>\n",
       "      <td>0.0</td>\n",
       "    </tr>\n",
       "    <tr>\n",
       "      <th>2</th>\n",
       "      <td>0.0</td>\n",
       "      <td>0.0</td>\n",
       "      <td>0.0</td>\n",
       "      <td>0.0</td>\n",
       "      <td>0.000000</td>\n",
       "      <td>0.0</td>\n",
       "      <td>0.0</td>\n",
       "      <td>0.000000</td>\n",
       "      <td>0.0</td>\n",
       "      <td>0.0</td>\n",
       "      <td>...</td>\n",
       "      <td>0.0</td>\n",
       "      <td>0.0</td>\n",
       "      <td>0.0</td>\n",
       "      <td>0.0</td>\n",
       "      <td>0.0</td>\n",
       "      <td>0.0</td>\n",
       "      <td>0.0</td>\n",
       "      <td>0.0</td>\n",
       "      <td>0.0</td>\n",
       "      <td>0.0</td>\n",
       "    </tr>\n",
       "    <tr>\n",
       "      <th>3</th>\n",
       "      <td>0.0</td>\n",
       "      <td>0.0</td>\n",
       "      <td>0.0</td>\n",
       "      <td>0.0</td>\n",
       "      <td>0.000000</td>\n",
       "      <td>0.0</td>\n",
       "      <td>0.0</td>\n",
       "      <td>0.292281</td>\n",
       "      <td>0.0</td>\n",
       "      <td>0.0</td>\n",
       "      <td>...</td>\n",
       "      <td>0.0</td>\n",
       "      <td>0.0</td>\n",
       "      <td>0.0</td>\n",
       "      <td>0.0</td>\n",
       "      <td>0.0</td>\n",
       "      <td>0.0</td>\n",
       "      <td>0.0</td>\n",
       "      <td>0.0</td>\n",
       "      <td>0.0</td>\n",
       "      <td>0.0</td>\n",
       "    </tr>\n",
       "    <tr>\n",
       "      <th>4</th>\n",
       "      <td>0.0</td>\n",
       "      <td>0.0</td>\n",
       "      <td>0.0</td>\n",
       "      <td>0.0</td>\n",
       "      <td>0.104482</td>\n",
       "      <td>0.0</td>\n",
       "      <td>0.0</td>\n",
       "      <td>0.000000</td>\n",
       "      <td>0.0</td>\n",
       "      <td>0.0</td>\n",
       "      <td>...</td>\n",
       "      <td>0.0</td>\n",
       "      <td>0.0</td>\n",
       "      <td>0.0</td>\n",
       "      <td>0.0</td>\n",
       "      <td>0.0</td>\n",
       "      <td>0.0</td>\n",
       "      <td>0.0</td>\n",
       "      <td>0.0</td>\n",
       "      <td>0.0</td>\n",
       "      <td>0.0</td>\n",
       "    </tr>\n",
       "    <tr>\n",
       "      <th>...</th>\n",
       "      <td>...</td>\n",
       "      <td>...</td>\n",
       "      <td>...</td>\n",
       "      <td>...</td>\n",
       "      <td>...</td>\n",
       "      <td>...</td>\n",
       "      <td>...</td>\n",
       "      <td>...</td>\n",
       "      <td>...</td>\n",
       "      <td>...</td>\n",
       "      <td>...</td>\n",
       "      <td>...</td>\n",
       "      <td>...</td>\n",
       "      <td>...</td>\n",
       "      <td>...</td>\n",
       "      <td>...</td>\n",
       "      <td>...</td>\n",
       "      <td>...</td>\n",
       "      <td>...</td>\n",
       "      <td>...</td>\n",
       "      <td>...</td>\n",
       "    </tr>\n",
       "    <tr>\n",
       "      <th>85</th>\n",
       "      <td>0.0</td>\n",
       "      <td>0.0</td>\n",
       "      <td>0.0</td>\n",
       "      <td>0.0</td>\n",
       "      <td>0.000000</td>\n",
       "      <td>0.0</td>\n",
       "      <td>0.0</td>\n",
       "      <td>0.000000</td>\n",
       "      <td>0.0</td>\n",
       "      <td>0.0</td>\n",
       "      <td>...</td>\n",
       "      <td>0.0</td>\n",
       "      <td>0.0</td>\n",
       "      <td>0.0</td>\n",
       "      <td>0.0</td>\n",
       "      <td>0.0</td>\n",
       "      <td>0.0</td>\n",
       "      <td>0.0</td>\n",
       "      <td>0.0</td>\n",
       "      <td>0.0</td>\n",
       "      <td>0.0</td>\n",
       "    </tr>\n",
       "    <tr>\n",
       "      <th>86</th>\n",
       "      <td>0.0</td>\n",
       "      <td>0.0</td>\n",
       "      <td>0.0</td>\n",
       "      <td>0.0</td>\n",
       "      <td>0.000000</td>\n",
       "      <td>0.0</td>\n",
       "      <td>0.0</td>\n",
       "      <td>0.000000</td>\n",
       "      <td>0.0</td>\n",
       "      <td>0.0</td>\n",
       "      <td>...</td>\n",
       "      <td>0.0</td>\n",
       "      <td>0.0</td>\n",
       "      <td>0.0</td>\n",
       "      <td>0.0</td>\n",
       "      <td>0.0</td>\n",
       "      <td>0.0</td>\n",
       "      <td>0.0</td>\n",
       "      <td>0.0</td>\n",
       "      <td>0.0</td>\n",
       "      <td>0.0</td>\n",
       "    </tr>\n",
       "    <tr>\n",
       "      <th>87</th>\n",
       "      <td>0.0</td>\n",
       "      <td>0.0</td>\n",
       "      <td>0.0</td>\n",
       "      <td>0.0</td>\n",
       "      <td>0.000000</td>\n",
       "      <td>0.0</td>\n",
       "      <td>0.0</td>\n",
       "      <td>0.000000</td>\n",
       "      <td>0.0</td>\n",
       "      <td>0.0</td>\n",
       "      <td>...</td>\n",
       "      <td>0.0</td>\n",
       "      <td>0.0</td>\n",
       "      <td>0.0</td>\n",
       "      <td>0.0</td>\n",
       "      <td>0.0</td>\n",
       "      <td>0.0</td>\n",
       "      <td>0.0</td>\n",
       "      <td>0.0</td>\n",
       "      <td>0.0</td>\n",
       "      <td>0.0</td>\n",
       "    </tr>\n",
       "    <tr>\n",
       "      <th>88</th>\n",
       "      <td>0.0</td>\n",
       "      <td>0.0</td>\n",
       "      <td>0.0</td>\n",
       "      <td>0.0</td>\n",
       "      <td>0.000000</td>\n",
       "      <td>0.0</td>\n",
       "      <td>0.0</td>\n",
       "      <td>0.000000</td>\n",
       "      <td>0.0</td>\n",
       "      <td>0.0</td>\n",
       "      <td>...</td>\n",
       "      <td>0.0</td>\n",
       "      <td>0.0</td>\n",
       "      <td>0.0</td>\n",
       "      <td>0.0</td>\n",
       "      <td>0.0</td>\n",
       "      <td>0.0</td>\n",
       "      <td>0.0</td>\n",
       "      <td>0.0</td>\n",
       "      <td>0.0</td>\n",
       "      <td>0.0</td>\n",
       "    </tr>\n",
       "    <tr>\n",
       "      <th>89</th>\n",
       "      <td>0.0</td>\n",
       "      <td>0.0</td>\n",
       "      <td>0.0</td>\n",
       "      <td>0.0</td>\n",
       "      <td>0.000000</td>\n",
       "      <td>0.0</td>\n",
       "      <td>0.0</td>\n",
       "      <td>0.000000</td>\n",
       "      <td>0.0</td>\n",
       "      <td>0.0</td>\n",
       "      <td>...</td>\n",
       "      <td>0.0</td>\n",
       "      <td>0.0</td>\n",
       "      <td>0.0</td>\n",
       "      <td>0.0</td>\n",
       "      <td>0.0</td>\n",
       "      <td>0.0</td>\n",
       "      <td>0.0</td>\n",
       "      <td>0.0</td>\n",
       "      <td>0.0</td>\n",
       "      <td>0.0</td>\n",
       "    </tr>\n",
       "  </tbody>\n",
       "</table>\n",
       "<p>90 rows × 300 columns</p>\n",
       "</div>"
      ],
      "text/plain": [
       "    equipos  juegos  arco  tiro  federación  balón  oro       set  brown  \\\n",
       "0       0.0     0.0   0.0   0.0    0.000000    0.0  0.0  0.000000    0.0   \n",
       "1       0.0     0.0   0.0   0.0    0.000000    0.0  0.0  0.000000    0.0   \n",
       "2       0.0     0.0   0.0   0.0    0.000000    0.0  0.0  0.000000    0.0   \n",
       "3       0.0     0.0   0.0   0.0    0.000000    0.0  0.0  0.292281    0.0   \n",
       "4       0.0     0.0   0.0   0.0    0.104482    0.0  0.0  0.000000    0.0   \n",
       "..      ...     ...   ...   ...         ...    ...  ...       ...    ...   \n",
       "85      0.0     0.0   0.0   0.0    0.000000    0.0  0.0  0.000000    0.0   \n",
       "86      0.0     0.0   0.0   0.0    0.000000    0.0  0.0  0.000000    0.0   \n",
       "87      0.0     0.0   0.0   0.0    0.000000    0.0  0.0  0.000000    0.0   \n",
       "88      0.0     0.0   0.0   0.0    0.000000    0.0  0.0  0.000000    0.0   \n",
       "89      0.0     0.0   0.0   0.0    0.000000    0.0  0.0  0.000000    0.0   \n",
       "\n",
       "    serbia  ...  franja  socialista  fernández  ámbito  judicial  militares  \\\n",
       "0      0.0  ...     0.0         0.0        0.0     0.0       0.0        0.0   \n",
       "1      0.0  ...     0.0         0.0        0.0     0.0       0.0        0.0   \n",
       "2      0.0  ...     0.0         0.0        0.0     0.0       0.0        0.0   \n",
       "3      0.0  ...     0.0         0.0        0.0     0.0       0.0        0.0   \n",
       "4      0.0  ...     0.0         0.0        0.0     0.0       0.0        0.0   \n",
       "..     ...  ...     ...         ...        ...     ...       ...        ...   \n",
       "85     0.0  ...     0.0         0.0        0.0     0.0       0.0        0.0   \n",
       "86     0.0  ...     0.0         0.0        0.0     0.0       0.0        0.0   \n",
       "87     0.0  ...     0.0         0.0        0.0     0.0       0.0        0.0   \n",
       "88     0.0  ...     0.0         0.0        0.0     0.0       0.0        0.0   \n",
       "89     0.0  ...     0.0         0.0        0.0     0.0       0.0        0.0   \n",
       "\n",
       "    responde  calvo  carmen calvo  afirmado  \n",
       "0        0.0    0.0           0.0       0.0  \n",
       "1        0.0    0.0           0.0       0.0  \n",
       "2        0.0    0.0           0.0       0.0  \n",
       "3        0.0    0.0           0.0       0.0  \n",
       "4        0.0    0.0           0.0       0.0  \n",
       "..       ...    ...           ...       ...  \n",
       "85       0.0    0.0           0.0       0.0  \n",
       "86       0.0    0.0           0.0       0.0  \n",
       "87       0.0    0.0           0.0       0.0  \n",
       "88       0.0    0.0           0.0       0.0  \n",
       "89       0.0    0.0           0.0       0.0  \n",
       "\n",
       "[90 rows x 300 columns]"
      ]
     },
     "execution_count": 152,
     "metadata": {},
     "output_type": "execute_result"
    }
   ],
   "source": [
    "df_x_train = pd.DataFrame(x_train)\n",
    "df_x_train.columns = myvocabulary\n",
    "df_x_train"
   ]
  },
  {
   "cell_type": "code",
   "execution_count": 153,
   "id": "8f7de326",
   "metadata": {},
   "outputs": [],
   "source": [
    "df_y_train = train_df.iloc[:,1]"
   ]
  },
  {
   "cell_type": "code",
   "execution_count": 154,
   "id": "6bfd182f",
   "metadata": {},
   "outputs": [],
   "source": [
    "naive_bayes = MultinomialNB()"
   ]
  },
  {
   "cell_type": "code",
   "execution_count": 155,
   "id": "d666c528",
   "metadata": {},
   "outputs": [
    {
     "data": {
      "text/plain": [
       "'from sklearn.naive_bayes import GaussianNB\\n\\nnaive_bayes = GaussianNB()'"
      ]
     },
     "execution_count": 155,
     "metadata": {},
     "output_type": "execute_result"
    }
   ],
   "source": [
    "'''from sklearn.naive_bayes import GaussianNB\n",
    "\n",
    "naive_bayes = GaussianNB()'''"
   ]
  },
  {
   "cell_type": "code",
   "execution_count": 156,
   "id": "95de6288",
   "metadata": {},
   "outputs": [
    {
     "data": {
      "text/plain": [
       "'from sklearn.naive_bayes import BernoulliNB\\n\\nnaive_bayes = BernoulliNB()'"
      ]
     },
     "execution_count": 156,
     "metadata": {},
     "output_type": "execute_result"
    }
   ],
   "source": [
    "'''from sklearn.naive_bayes import BernoulliNB\n",
    "\n",
    "naive_bayes = BernoulliNB()'''"
   ]
  },
  {
   "cell_type": "code",
   "execution_count": 157,
   "id": "a0134c44",
   "metadata": {},
   "outputs": [],
   "source": [
    "naive_bayes.fit(x_train, y_train)\n",
    "predicciones = naive_bayes.predict(x_test)"
   ]
  },
  {
   "cell_type": "code",
   "execution_count": 158,
   "id": "f2f751dc",
   "metadata": {},
   "outputs": [
    {
     "data": {
      "text/plain": [
       "'\\nfrom sklearn.model_selection import cross_validate\\nfrom sklearn.model_selection import RepeatedKFold\\nfrom numpy import mean\\nfrom numpy import std'"
      ]
     },
     "execution_count": 158,
     "metadata": {},
     "output_type": "execute_result"
    }
   ],
   "source": [
    "'''\n",
    "from sklearn.model_selection import cross_validate\n",
    "from sklearn.model_selection import RepeatedKFold\n",
    "from numpy import mean\n",
    "from numpy import std'''"
   ]
  },
  {
   "cell_type": "code",
   "execution_count": 159,
   "id": "cc26f11d",
   "metadata": {},
   "outputs": [
    {
     "data": {
      "text/plain": [
       "'\\ncv = RepeatedKFold(n_splits=10, n_repeats=3, random_state=1)\\nmetrics = cross_validate(naive_bayes, x_train, y_train, scoring=[\\'precision_macro\\', \\'recall_macro\\'], cv=cv, n_jobs=-1)\\n\\nprint(\\'Precision: \\', str(round((mean(metrics[\"test_precision_macro\"])),3)), \\'| Desviación típica: \\', str( round( std(metrics[\"test_precision_macro\"]), 3)))\\n     '"
      ]
     },
     "execution_count": 159,
     "metadata": {},
     "output_type": "execute_result"
    }
   ],
   "source": [
    "'''\n",
    "cv = RepeatedKFold(n_splits=10, n_repeats=3, random_state=1)\n",
    "metrics = cross_validate(naive_bayes, x_train, y_train, scoring=['precision_macro', 'recall_macro'], cv=cv, n_jobs=-1)\n",
    "\n",
    "print('Precision: ', str(round((mean(metrics[\"test_precision_macro\"])),3)), '| Desviación típica: ', str( round( std(metrics[\"test_precision_macro\"]), 3)))\n",
    "     '''"
   ]
  },
  {
   "cell_type": "code",
   "execution_count": 160,
   "id": "a740ae60",
   "metadata": {},
   "outputs": [
    {
     "name": "stdout",
     "output_type": "stream",
     "text": [
      "0.9666666666666667\n"
     ]
    }
   ],
   "source": [
    "# printing the accuracy of the model\n",
    "print(accuracy_score(predicciones, y_test))"
   ]
  },
  {
   "cell_type": "code",
   "execution_count": null,
   "id": "4016e989",
   "metadata": {},
   "outputs": [],
   "source": []
  },
  {
   "cell_type": "code",
   "execution_count": 161,
   "id": "874bf3f9",
   "metadata": {},
   "outputs": [
    {
     "data": {
      "text/plain": [
       "[array([0.69, 0.16, 0.16]),\n",
       " array([0.7 , 0.15, 0.15]),\n",
       " array([0.83, 0.09, 0.09]),\n",
       " array([0.57, 0.25, 0.18]),\n",
       " array([0.78, 0.11, 0.11]),\n",
       " array([0.53, 0.24, 0.22]),\n",
       " array([0.64, 0.18, 0.18]),\n",
       " array([0.64, 0.17, 0.19]),\n",
       " array([0.76, 0.13, 0.11]),\n",
       " array([0.75, 0.13, 0.12]),\n",
       " array([0.73, 0.13, 0.14]),\n",
       " array([0.65, 0.18, 0.17]),\n",
       " array([0.74, 0.13, 0.13]),\n",
       " array([0.68, 0.16, 0.16]),\n",
       " array([0.39, 0.27, 0.34]),\n",
       " array([0.74, 0.13, 0.13]),\n",
       " array([0.53, 0.23, 0.23]),\n",
       " array([0.82, 0.09, 0.09]),\n",
       " array([0.79, 0.1 , 0.1 ]),\n",
       " array([0.8, 0.1, 0.1]),\n",
       " array([0.69, 0.16, 0.14]),\n",
       " array([0.8, 0.1, 0.1]),\n",
       " array([0.83, 0.08, 0.09]),\n",
       " array([0.76, 0.12, 0.13]),\n",
       " array([0.78, 0.11, 0.11]),\n",
       " array([0.7 , 0.15, 0.15]),\n",
       " array([0.79, 0.1 , 0.11]),\n",
       " array([0.71, 0.14, 0.14]),\n",
       " array([0.68, 0.15, 0.17]),\n",
       " array([0.63, 0.18, 0.18]),\n",
       " array([0.12, 0.13, 0.75]),\n",
       " array([0.13, 0.12, 0.75]),\n",
       " array([0.19, 0.5 , 0.31]),\n",
       " array([0.38, 0.37, 0.25]),\n",
       " array([0.17, 0.16, 0.68]),\n",
       " array([0.16, 0.19, 0.66]),\n",
       " array([0.12, 0.13, 0.76]),\n",
       " array([0.12, 0.11, 0.77]),\n",
       " array([0.1 , 0.11, 0.79]),\n",
       " array([0.13, 0.13, 0.74]),\n",
       " array([0.21, 0.22, 0.56]),\n",
       " array([0.17, 0.14, 0.68]),\n",
       " array([0.1 , 0.11, 0.79]),\n",
       " array([0.19, 0.23, 0.58]),\n",
       " array([0.14, 0.16, 0.7 ]),\n",
       " array([0.2, 0.2, 0.6]),\n",
       " array([0.14, 0.16, 0.7 ]),\n",
       " array([0.2 , 0.21, 0.59]),\n",
       " array([0.2 , 0.54, 0.25]),\n",
       " array([0.21, 0.21, 0.58]),\n",
       " array([0.19, 0.23, 0.58]),\n",
       " array([0.13, 0.16, 0.71]),\n",
       " array([0.25, 0.25, 0.51]),\n",
       " array([0.3 , 0.25, 0.45]),\n",
       " array([0.13, 0.17, 0.7 ]),\n",
       " array([0.19, 0.18, 0.64]),\n",
       " array([0.19, 0.19, 0.62]),\n",
       " array([0.17, 0.23, 0.6 ]),\n",
       " array([0.24, 0.17, 0.58]),\n",
       " array([0.2 , 0.21, 0.59]),\n",
       " array([0.17, 0.6 , 0.22]),\n",
       " array([0.15, 0.68, 0.17]),\n",
       " array([0.18, 0.63, 0.19]),\n",
       " array([0.18, 0.63, 0.19]),\n",
       " array([0.17, 0.64, 0.19]),\n",
       " array([0.15, 0.71, 0.14]),\n",
       " array([0.13, 0.7 , 0.17]),\n",
       " array([0.12, 0.76, 0.12]),\n",
       " array([0.19, 0.51, 0.3 ]),\n",
       " array([0.18, 0.62, 0.19]),\n",
       " array([0.16, 0.66, 0.17]),\n",
       " array([0.23, 0.57, 0.21]),\n",
       " array([0.23, 0.55, 0.22]),\n",
       " array([0.22, 0.59, 0.19]),\n",
       " array([0.23, 0.53, 0.24]),\n",
       " array([0.35, 0.41, 0.24]),\n",
       " array([0.16, 0.71, 0.13]),\n",
       " array([0.22, 0.55, 0.23]),\n",
       " array([0.2, 0.6, 0.2]),\n",
       " array([0.13, 0.72, 0.15]),\n",
       " array([0.2 , 0.51, 0.29]),\n",
       " array([0.18, 0.62, 0.2 ]),\n",
       " array([0.17, 0.65, 0.18]),\n",
       " array([0.23, 0.53, 0.24]),\n",
       " array([0.12, 0.75, 0.12]),\n",
       " array([0.16, 0.68, 0.16]),\n",
       " array([0.17, 0.56, 0.27]),\n",
       " array([0.2 , 0.55, 0.25]),\n",
       " array([0.17, 0.58, 0.25]),\n",
       " array([0.15, 0.69, 0.17])]"
      ]
     },
     "execution_count": 161,
     "metadata": {},
     "output_type": "execute_result"
    }
   ],
   "source": [
    "predicciones_prob = naive_bayes.predict_proba(x_test)\n",
    "predicciones_rounded = [np.round(x,2) for x in predicciones_prob]\n",
    "\n",
    "df_predicciones = pd.DataFrame(predicciones_rounded)\n",
    "df_predicciones.columns=['Salud', 'Politica', 'Deportes']\n",
    "df_predicciones.index.name = 'Documento'\n",
    "df_predicciones.to_excel('./resultados/Naive Bayes/predicciones.xlsx')\n",
    "predicciones_rounded\n",
    "\n",
    "predicciones_rounded"
   ]
  },
  {
   "cell_type": "code",
   "execution_count": 162,
   "id": "6f5be37e",
   "metadata": {},
   "outputs": [
    {
     "name": "stdout",
     "output_type": "stream",
     "text": [
      "              precision    recall  f1-score   support\n",
      "\n",
      "       Salud      0.968     1.000     0.984        30\n",
      "    Politica      0.938     1.000     0.968        30\n",
      "    Deportes      1.000     0.900     0.947        30\n",
      "\n",
      "    accuracy                          0.967        90\n",
      "   macro avg      0.968     0.967     0.966        90\n",
      "weighted avg      0.968     0.967     0.966        90\n",
      "\n"
     ]
    }
   ],
   "source": [
    "predicciones = naive_bayes.predict(x_test)\n",
    "\n",
    "from sklearn.metrics import classification_report\n",
    "target_names = ['Salud', 'Politica', 'Deportes']\n",
    "informe = classification_report(y_test, predicciones, target_names=target_names, digits=3)\n",
    "print(informe)\n",
    "\n",
    "\n",
    "informe = classification_report(y_test, predicciones, target_names=target_names, digits=3, output_dict=True)\n",
    "df_informe = pd.DataFrame(informe).transpose()"
   ]
  },
  {
   "cell_type": "code",
   "execution_count": 163,
   "id": "b5767b9f",
   "metadata": {},
   "outputs": [],
   "source": [
    "df_informe.to_excel('./resultados/Naive Bayes/informe.xlsx', index=True)"
   ]
  },
  {
   "cell_type": "code",
   "execution_count": 164,
   "id": "38e89f92",
   "metadata": {},
   "outputs": [
    {
     "data": {
      "text/html": [
       "<div>\n",
       "<style scoped>\n",
       "    .dataframe tbody tr th:only-of-type {\n",
       "        vertical-align: middle;\n",
       "    }\n",
       "\n",
       "    .dataframe tbody tr th {\n",
       "        vertical-align: top;\n",
       "    }\n",
       "\n",
       "    .dataframe thead th {\n",
       "        text-align: right;\n",
       "    }\n",
       "</style>\n",
       "<table border=\"1\" class=\"dataframe\">\n",
       "  <thead>\n",
       "    <tr style=\"text-align: right;\">\n",
       "      <th></th>\n",
       "      <th>precision</th>\n",
       "      <th>recall</th>\n",
       "      <th>f1-score</th>\n",
       "      <th>support</th>\n",
       "    </tr>\n",
       "  </thead>\n",
       "  <tbody>\n",
       "    <tr>\n",
       "      <th>Salud</th>\n",
       "      <td>0.967742</td>\n",
       "      <td>1.000000</td>\n",
       "      <td>0.983607</td>\n",
       "      <td>30.000000</td>\n",
       "    </tr>\n",
       "    <tr>\n",
       "      <th>Politica</th>\n",
       "      <td>0.937500</td>\n",
       "      <td>1.000000</td>\n",
       "      <td>0.967742</td>\n",
       "      <td>30.000000</td>\n",
       "    </tr>\n",
       "    <tr>\n",
       "      <th>Deportes</th>\n",
       "      <td>1.000000</td>\n",
       "      <td>0.900000</td>\n",
       "      <td>0.947368</td>\n",
       "      <td>30.000000</td>\n",
       "    </tr>\n",
       "    <tr>\n",
       "      <th>accuracy</th>\n",
       "      <td>0.966667</td>\n",
       "      <td>0.966667</td>\n",
       "      <td>0.966667</td>\n",
       "      <td>0.966667</td>\n",
       "    </tr>\n",
       "    <tr>\n",
       "      <th>macro avg</th>\n",
       "      <td>0.968414</td>\n",
       "      <td>0.966667</td>\n",
       "      <td>0.966239</td>\n",
       "      <td>90.000000</td>\n",
       "    </tr>\n",
       "    <tr>\n",
       "      <th>weighted avg</th>\n",
       "      <td>0.968414</td>\n",
       "      <td>0.966667</td>\n",
       "      <td>0.966239</td>\n",
       "      <td>90.000000</td>\n",
       "    </tr>\n",
       "  </tbody>\n",
       "</table>\n",
       "</div>"
      ],
      "text/plain": [
       "              precision    recall  f1-score    support\n",
       "Salud          0.967742  1.000000  0.983607  30.000000\n",
       "Politica       0.937500  1.000000  0.967742  30.000000\n",
       "Deportes       1.000000  0.900000  0.947368  30.000000\n",
       "accuracy       0.966667  0.966667  0.966667   0.966667\n",
       "macro avg      0.968414  0.966667  0.966239  90.000000\n",
       "weighted avg   0.968414  0.966667  0.966239  90.000000"
      ]
     },
     "execution_count": 164,
     "metadata": {},
     "output_type": "execute_result"
    }
   ],
   "source": [
    "df_informe"
   ]
  },
  {
   "cell_type": "code",
   "execution_count": 166,
   "id": "dca65878",
   "metadata": {},
   "outputs": [
    {
     "data": {
      "image/png": "[encoded data removed]",
      "text/plain": [
       "<Figure size 640x480 with 2 Axes>"
      ]
     },
     "metadata": {},
     "output_type": "display_data"
    }
   ],
   "source": [
    "from sklearn.metrics import confusion_matrix, ConfusionMatrixDisplay\n",
    "cm = confusion_matrix(y_test, predicciones, labels=naive_bayes.classes_)\n",
    "disp = ConfusionMatrixDisplay(confusion_matrix=cm, display_labels=naive_bayes.classes_)\n",
    "disp.plot()\n",
    "plt.show()"
   ]
  },
  {
   "cell_type": "code",
   "execution_count": null,
   "id": "16eead53",
   "metadata": {},
   "outputs": [],
   "source": []
  }
 ],
 "metadata": {
  "kernelspec": {
   "display_name": "Python 3 (ipykernel)",
   "language": "python",
   "name": "python3"
  },
  "language_info": {
   "codemirror_mode": {
    "name": "ipython",
    "version": 3
   },
   "file_extension": ".py",
   "mimetype": "text/x-python",
   "name": "python",
   "nbconvert_exporter": "python",
   "pygments_lexer": "ipython3",
   "version": "3.11.0"
  }
 },
 "nbformat": 4,
 "nbformat_minor": 5
}
