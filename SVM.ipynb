{
 "cells": [
  {
   "cell_type": "code",
   "execution_count": 37,
   "id": "0f2457ae",
   "metadata": {},
   "outputs": [],
   "source": [
    "import pandas as pd\n",
    "\n",
    "import numpy as np\n",
    "from numpy import mean\n",
    "from numpy import std\n",
    "\n",
    "import matplotlib.pyplot as plt\n",
    "\n",
    "from sklearn.feature_extraction.text import TfidfVectorizer\n",
    "from sklearn import svm\n",
    "from sklearn.model_selection import cross_validate\n",
    "from sklearn.model_selection import RepeatedKFold\n",
    "from sklearn.metrics import classification_report\n",
    "from sklearn.metrics import confusion_matrix, ConfusionMatrixDisplay"
   ]
  },
  {
   "cell_type": "markdown",
   "id": "98407864",
   "metadata": {},
   "source": [
    "# Load Train and Test Texts (Preprocessed)"
   ]
  },
  {
   "cell_type": "code",
   "execution_count": 14,
   "id": "e72318dc",
   "metadata": {},
   "outputs": [],
   "source": [
    "train_df = pd.read_excel('corpus/train.xlsx', usecols = [1,2,3])\n",
    "test_df = pd.read_excel('corpus/test.xlsx', usecols = [1,2,3])"
   ]
  },
  {
   "cell_type": "markdown",
   "id": "0ad83747",
   "metadata": {},
   "source": [
    "# Load and Process Glossaries"
   ]
  },
  {
   "cell_type": "markdown",
   "id": "b4efbbc8",
   "metadata": {},
   "source": [
    "### Load glossaries and assign their class"
   ]
  },
  {
   "cell_type": "code",
   "execution_count": 17,
   "id": "42e3ead4",
   "metadata": {},
   "outputs": [],
   "source": [
    "sport_df = pd.read_excel('glossary/deportes.xlsx', names = ['Word', 'Rank'] , usecols = [0,1])\n",
    "sport_df['Class'] = 0\n",
    "\n",
    "health_df = pd.read_excel('glossary/salud.xlsx', names = ['Word', 'Rank'] , usecols = [0,1])\n",
    "health_df['Class'] = 1\n",
    "\n",
    "politics_df = pd.read_excel('glossary/politica.xlsx', names = ['Word', 'Rank'] , usecols = [0,1])\n",
    "politics_df['Class'] = 2"
   ]
  },
  {
   "cell_type": "markdown",
   "id": "f88f0e52",
   "metadata": {},
   "source": [
    "### Glossaries sizes"
   ]
  },
  {
   "cell_type": "code",
   "execution_count": 18,
   "id": "640f5206",
   "metadata": {},
   "outputs": [
    {
     "name": "stdout",
     "output_type": "stream",
     "text": [
      "Sports Glossary Size: 5954\n",
      "Health Glossary Size: 4940\n",
      "Politics Glossary Size: 6485\n",
      "Total Glossary Size: 17379\n"
     ]
    }
   ],
   "source": [
    "print('Sports Glossary Size:', len(sport_df))\n",
    "print('Health Glossary Size:', len(health_df))\n",
    "print('Politics Glossary Size:', len(politics_df))\n",
    "\n",
    "print('Total Glossary Size:', (len(politics_df) + len(health_df) + len(sport_df)))"
   ]
  },
  {
   "cell_type": "markdown",
   "id": "9219deff",
   "metadata": {},
   "source": [
    "### Delete duplicated words in the glossaries"
   ]
  },
  {
   "cell_type": "code",
   "execution_count": 19,
   "id": "56de582c",
   "metadata": {},
   "outputs": [],
   "source": [
    "glossary_df = pd.concat([sport_df, health_df, politics_df])\n",
    "glossary_df = glossary_df.drop_duplicates(subset = 'Word', keep = False)\n",
    "glossary_df.reset_index(drop = True, inplace = True)"
   ]
  },
  {
   "cell_type": "markdown",
   "id": "85f5f2fa",
   "metadata": {},
   "source": [
    "### Processed glossaries sizes"
   ]
  },
  {
   "cell_type": "code",
   "execution_count": 20,
   "id": "f6ca9018",
   "metadata": {},
   "outputs": [
    {
     "name": "stdout",
     "output_type": "stream",
     "text": [
      "Sports Glossary Size: 4608\n",
      "Health Glossary Size: 3588\n",
      "Politics Glossary Size: 4878\n",
      "Total Glossary Size: 13074\n"
     ]
    }
   ],
   "source": [
    "print('Sports Glossary Size:', len(glossary_df[glossary_df['Class'] == 0]))\n",
    "print('Health Glossary Size:', len(glossary_df[glossary_df['Class'] == 1]))\n",
    "print('Politics Glossary Size:', len(glossary_df[glossary_df['Class'] == 2]))\n",
    "\n",
    "print('Total Glossary Size:', len(glossary_df))"
   ]
  },
  {
   "cell_type": "markdown",
   "id": "2b4df723",
   "metadata": {},
   "source": [
    "### Processed glossaries's 100 best ranked words"
   ]
  },
  {
   "cell_type": "code",
   "execution_count": 21,
   "id": "daffe785",
   "metadata": {},
   "outputs": [
    {
     "data": {
      "text/html": [
       "<div>\n",
       "<style scoped>\n",
       "    .dataframe tbody tr th:only-of-type {\n",
       "        vertical-align: middle;\n",
       "    }\n",
       "\n",
       "    .dataframe tbody tr th {\n",
       "        vertical-align: top;\n",
       "    }\n",
       "\n",
       "    .dataframe thead th {\n",
       "        text-align: right;\n",
       "    }\n",
       "</style>\n",
       "<table border=\"1\" class=\"dataframe\">\n",
       "  <thead>\n",
       "    <tr style=\"text-align: right;\">\n",
       "      <th></th>\n",
       "      <th>Word</th>\n",
       "      <th>Rank</th>\n",
       "      <th>Class</th>\n",
       "    </tr>\n",
       "  </thead>\n",
       "  <tbody>\n",
       "    <tr>\n",
       "      <th>0</th>\n",
       "      <td>equipos</td>\n",
       "      <td>0.733358</td>\n",
       "      <td>0</td>\n",
       "    </tr>\n",
       "    <tr>\n",
       "      <th>1</th>\n",
       "      <td>juegos</td>\n",
       "      <td>0.648982</td>\n",
       "      <td>0</td>\n",
       "    </tr>\n",
       "    <tr>\n",
       "      <th>2</th>\n",
       "      <td>arco</td>\n",
       "      <td>0.513216</td>\n",
       "      <td>0</td>\n",
       "    </tr>\n",
       "    <tr>\n",
       "      <th>3</th>\n",
       "      <td>tiro</td>\n",
       "      <td>0.476139</td>\n",
       "      <td>0</td>\n",
       "    </tr>\n",
       "    <tr>\n",
       "      <th>4</th>\n",
       "      <td>federación</td>\n",
       "      <td>0.452926</td>\n",
       "      <td>0</td>\n",
       "    </tr>\n",
       "    <tr>\n",
       "      <th>...</th>\n",
       "      <td>...</td>\n",
       "      <td>...</td>\n",
       "      <td>...</td>\n",
       "    </tr>\n",
       "    <tr>\n",
       "      <th>95</th>\n",
       "      <td>par</td>\n",
       "      <td>0.180682</td>\n",
       "      <td>0</td>\n",
       "    </tr>\n",
       "    <tr>\n",
       "      <th>96</th>\n",
       "      <td>ángela</td>\n",
       "      <td>0.178913</td>\n",
       "      <td>0</td>\n",
       "    </tr>\n",
       "    <tr>\n",
       "      <th>97</th>\n",
       "      <td>martínez</td>\n",
       "      <td>0.178189</td>\n",
       "      <td>0</td>\n",
       "    </tr>\n",
       "    <tr>\n",
       "      <th>98</th>\n",
       "      <td>atletas</td>\n",
       "      <td>0.178130</td>\n",
       "      <td>0</td>\n",
       "    </tr>\n",
       "    <tr>\n",
       "      <th>99</th>\n",
       "      <td>continental</td>\n",
       "      <td>0.176835</td>\n",
       "      <td>0</td>\n",
       "    </tr>\n",
       "  </tbody>\n",
       "</table>\n",
       "<p>100 rows × 3 columns</p>\n",
       "</div>"
      ],
      "text/plain": [
       "           Word      Rank  Class\n",
       "0       equipos  0.733358      0\n",
       "1        juegos  0.648982      0\n",
       "2          arco  0.513216      0\n",
       "3          tiro  0.476139      0\n",
       "4    federación  0.452926      0\n",
       "..          ...       ...    ...\n",
       "95          par  0.180682      0\n",
       "96       ángela  0.178913      0\n",
       "97     martínez  0.178189      0\n",
       "98      atletas  0.178130      0\n",
       "99  continental  0.176835      0\n",
       "\n",
       "[100 rows x 3 columns]"
      ]
     },
     "execution_count": 21,
     "metadata": {},
     "output_type": "execute_result"
    }
   ],
   "source": [
    "dep = glossary_df[glossary_df['Class'] == 0][:100]\n",
    "\n",
    "dep.to_excel('glossary/Processed_Sports.xlsx', index = False)\n",
    "\n",
    "dep"
   ]
  },
  {
   "cell_type": "code",
   "execution_count": 22,
   "id": "cffd2d27",
   "metadata": {},
   "outputs": [
    {
     "data": {
      "text/html": [
       "<div>\n",
       "<style scoped>\n",
       "    .dataframe tbody tr th:only-of-type {\n",
       "        vertical-align: middle;\n",
       "    }\n",
       "\n",
       "    .dataframe tbody tr th {\n",
       "        vertical-align: top;\n",
       "    }\n",
       "\n",
       "    .dataframe thead th {\n",
       "        text-align: right;\n",
       "    }\n",
       "</style>\n",
       "<table border=\"1\" class=\"dataframe\">\n",
       "  <thead>\n",
       "    <tr style=\"text-align: right;\">\n",
       "      <th></th>\n",
       "      <th>Word</th>\n",
       "      <th>Rank</th>\n",
       "      <th>Class</th>\n",
       "    </tr>\n",
       "  </thead>\n",
       "  <tbody>\n",
       "    <tr>\n",
       "      <th>4608</th>\n",
       "      <td>dolor</td>\n",
       "      <td>0.599021</td>\n",
       "      <td>1</td>\n",
       "    </tr>\n",
       "    <tr>\n",
       "      <th>4609</th>\n",
       "      <td>plomo</td>\n",
       "      <td>0.551113</td>\n",
       "      <td>1</td>\n",
       "    </tr>\n",
       "    <tr>\n",
       "      <th>4610</th>\n",
       "      <td>enfermedades</td>\n",
       "      <td>0.538785</td>\n",
       "      <td>1</td>\n",
       "    </tr>\n",
       "    <tr>\n",
       "      <th>4611</th>\n",
       "      <td>mental</td>\n",
       "      <td>0.473210</td>\n",
       "      <td>1</td>\n",
       "    </tr>\n",
       "    <tr>\n",
       "      <th>4612</th>\n",
       "      <td>virus</td>\n",
       "      <td>0.459235</td>\n",
       "      <td>1</td>\n",
       "    </tr>\n",
       "    <tr>\n",
       "      <th>...</th>\n",
       "      <td>...</td>\n",
       "      <td>...</td>\n",
       "      <td>...</td>\n",
       "    </tr>\n",
       "    <tr>\n",
       "      <th>4703</th>\n",
       "      <td>azoospermia</td>\n",
       "      <td>0.149694</td>\n",
       "      <td>1</td>\n",
       "    </tr>\n",
       "    <tr>\n",
       "      <th>4704</th>\n",
       "      <td>compatible</td>\n",
       "      <td>0.148139</td>\n",
       "      <td>1</td>\n",
       "    </tr>\n",
       "    <tr>\n",
       "      <th>4705</th>\n",
       "      <td>campoy</td>\n",
       "      <td>0.148139</td>\n",
       "      <td>1</td>\n",
       "    </tr>\n",
       "    <tr>\n",
       "      <th>4706</th>\n",
       "      <td>dolencias</td>\n",
       "      <td>0.147137</td>\n",
       "      <td>1</td>\n",
       "    </tr>\n",
       "    <tr>\n",
       "      <th>4707</th>\n",
       "      <td>reduce</td>\n",
       "      <td>0.146586</td>\n",
       "      <td>1</td>\n",
       "    </tr>\n",
       "  </tbody>\n",
       "</table>\n",
       "<p>100 rows × 3 columns</p>\n",
       "</div>"
      ],
      "text/plain": [
       "              Word      Rank  Class\n",
       "4608         dolor  0.599021      1\n",
       "4609         plomo  0.551113      1\n",
       "4610  enfermedades  0.538785      1\n",
       "4611        mental  0.473210      1\n",
       "4612         virus  0.459235      1\n",
       "...            ...       ...    ...\n",
       "4703   azoospermia  0.149694      1\n",
       "4704    compatible  0.148139      1\n",
       "4705        campoy  0.148139      1\n",
       "4706     dolencias  0.147137      1\n",
       "4707        reduce  0.146586      1\n",
       "\n",
       "[100 rows x 3 columns]"
      ]
     },
     "execution_count": 22,
     "metadata": {},
     "output_type": "execute_result"
    }
   ],
   "source": [
    "hth =glossary_df[glossary_df['Class'] == 1][:100]\n",
    "\n",
    "hth.to_excel('glossary/Processed_Health.xlsx', index = False)\n",
    "\n",
    "hth"
   ]
  },
  {
   "cell_type": "code",
   "execution_count": 24,
   "id": "658eb03d",
   "metadata": {},
   "outputs": [
    {
     "data": {
      "text/html": [
       "<div>\n",
       "<style scoped>\n",
       "    .dataframe tbody tr th:only-of-type {\n",
       "        vertical-align: middle;\n",
       "    }\n",
       "\n",
       "    .dataframe tbody tr th {\n",
       "        vertical-align: top;\n",
       "    }\n",
       "\n",
       "    .dataframe thead th {\n",
       "        text-align: right;\n",
       "    }\n",
       "</style>\n",
       "<table border=\"1\" class=\"dataframe\">\n",
       "  <thead>\n",
       "    <tr style=\"text-align: right;\">\n",
       "      <th></th>\n",
       "      <th>Word</th>\n",
       "      <th>Rank</th>\n",
       "      <th>Class</th>\n",
       "    </tr>\n",
       "  </thead>\n",
       "  <tbody>\n",
       "    <tr>\n",
       "      <th>8196</th>\n",
       "      <td>ley</td>\n",
       "      <td>0.893592</td>\n",
       "      <td>2</td>\n",
       "    </tr>\n",
       "    <tr>\n",
       "      <th>8197</th>\n",
       "      <td>pp</td>\n",
       "      <td>0.890320</td>\n",
       "      <td>2</td>\n",
       "    </tr>\n",
       "    <tr>\n",
       "      <th>8198</th>\n",
       "      <td>igualdad</td>\n",
       "      <td>0.695077</td>\n",
       "      <td>2</td>\n",
       "    </tr>\n",
       "    <tr>\n",
       "      <th>8199</th>\n",
       "      <td>psoe</td>\n",
       "      <td>0.647693</td>\n",
       "      <td>2</td>\n",
       "    </tr>\n",
       "    <tr>\n",
       "      <th>8200</th>\n",
       "      <td>becas</td>\n",
       "      <td>0.511423</td>\n",
       "      <td>2</td>\n",
       "    </tr>\n",
       "    <tr>\n",
       "      <th>...</th>\n",
       "      <td>...</td>\n",
       "      <td>...</td>\n",
       "      <td>...</td>\n",
       "    </tr>\n",
       "    <tr>\n",
       "      <th>8291</th>\n",
       "      <td>militares</td>\n",
       "      <td>0.191283</td>\n",
       "      <td>2</td>\n",
       "    </tr>\n",
       "    <tr>\n",
       "      <th>8292</th>\n",
       "      <td>responde</td>\n",
       "      <td>0.189121</td>\n",
       "      <td>2</td>\n",
       "    </tr>\n",
       "    <tr>\n",
       "      <th>8293</th>\n",
       "      <td>carmen calvo</td>\n",
       "      <td>0.188672</td>\n",
       "      <td>2</td>\n",
       "    </tr>\n",
       "    <tr>\n",
       "      <th>8294</th>\n",
       "      <td>calvo</td>\n",
       "      <td>0.188672</td>\n",
       "      <td>2</td>\n",
       "    </tr>\n",
       "    <tr>\n",
       "      <th>8295</th>\n",
       "      <td>afirmado</td>\n",
       "      <td>0.188542</td>\n",
       "      <td>2</td>\n",
       "    </tr>\n",
       "  </tbody>\n",
       "</table>\n",
       "<p>100 rows × 3 columns</p>\n",
       "</div>"
      ],
      "text/plain": [
       "              Word      Rank  Class\n",
       "8196           ley  0.893592      2\n",
       "8197            pp  0.890320      2\n",
       "8198      igualdad  0.695077      2\n",
       "8199          psoe  0.647693      2\n",
       "8200         becas  0.511423      2\n",
       "...            ...       ...    ...\n",
       "8291     militares  0.191283      2\n",
       "8292      responde  0.189121      2\n",
       "8293  carmen calvo  0.188672      2\n",
       "8294         calvo  0.188672      2\n",
       "8295      afirmado  0.188542      2\n",
       "\n",
       "[100 rows x 3 columns]"
      ]
     },
     "execution_count": 24,
     "metadata": {},
     "output_type": "execute_result"
    }
   ],
   "source": [
    "pol = glossary_df[glossary_df['Class'] == 2][:100]\n",
    "\n",
    "pol.to_excel('glossary/Processed_Politics.xlsx', index = False)\n",
    "\n",
    "pol"
   ]
  },
  {
   "cell_type": "markdown",
   "id": "bb5e984a",
   "metadata": {},
   "source": [
    "### Unify each glossary's 100 best ranked words in one common glossary"
   ]
  },
  {
   "cell_type": "code",
   "execution_count": 25,
   "id": "9df625fb",
   "metadata": {},
   "outputs": [],
   "source": [
    "list_df = [glossary_df[glossary_df['Class'] == 0][:100], glossary_df[glossary_df['Class'] == 1][:100], glossary_df[glossary_df['Class'] == 2][:100]]\n",
    "\n",
    "glossary_df = pd.concat(list_df, ignore_index = True)"
   ]
  },
  {
   "cell_type": "markdown",
   "id": "ef23e2c7",
   "metadata": {},
   "source": [
    "# Obtain TF-IDF Matrices"
   ]
  },
  {
   "cell_type": "markdown",
   "id": "0a9d8c1a",
   "metadata": {},
   "source": [
    "### Obtain vocabulary from glossary and initialize the vectorizer with it"
   ]
  },
  {
   "cell_type": "code",
   "execution_count": 26,
   "id": "1103d742",
   "metadata": {},
   "outputs": [],
   "source": [
    "myvocabulary = list(glossary_df['Word'])\n",
    "\n",
    "vectorizer = TfidfVectorizer(vocabulary = myvocabulary, ngram_range = (1,3))"
   ]
  },
  {
   "cell_type": "markdown",
   "id": "831a3648",
   "metadata": {},
   "source": [
    "### Obtain tf-idf vectors from all training texts"
   ]
  },
  {
   "cell_type": "code",
   "execution_count": 27,
   "id": "0f94476e",
   "metadata": {},
   "outputs": [],
   "source": [
    "train_vec = vectorizer.fit_transform(train_df.iloc[:,0])\n",
    "train_vec = train_vec.todense()"
   ]
  },
  {
   "cell_type": "code",
   "execution_count": 28,
   "id": "67c103fd",
   "metadata": {},
   "outputs": [],
   "source": [
    "train_vec_df = pd.DataFrame(train_vec)\n",
    "train_vec_df.columns = myvocabulary\n",
    "\n",
    "train_label_df = train_df.iloc[:,1]"
   ]
  },
  {
   "cell_type": "markdown",
   "id": "a6d1e19b",
   "metadata": {},
   "source": [
    "### Obtain tf-idf vectors from all test texts"
   ]
  },
  {
   "cell_type": "code",
   "execution_count": 29,
   "id": "93186050",
   "metadata": {},
   "outputs": [],
   "source": [
    "test_vec = vectorizer.transform(test_df.iloc[:,0])\n",
    "test_vec = test_vec.todense()"
   ]
  },
  {
   "cell_type": "code",
   "execution_count": 31,
   "id": "d67cdcec",
   "metadata": {},
   "outputs": [],
   "source": [
    "test_vec_df = pd.DataFrame(test_vec)\n",
    "test_vec_df.columns = myvocabulary\n",
    "\n",
    "test_label_df = test_df.iloc[:,1]"
   ]
  },
  {
   "cell_type": "markdown",
   "id": "eca86266",
   "metadata": {},
   "source": [
    "### Obtain train and test data"
   ]
  },
  {
   "cell_type": "code",
   "execution_count": 32,
   "id": "a27be2bc",
   "metadata": {},
   "outputs": [],
   "source": [
    "x_train = train_vec_df.values\n",
    "y_train = train_label_df.values\n",
    "\n",
    "x_test = test_vec_df.values\n",
    "y_test = test_label_df.values"
   ]
  },
  {
   "cell_type": "markdown",
   "id": "0e611b0a",
   "metadata": {},
   "source": [
    "# Train Model (SVC)"
   ]
  },
  {
   "cell_type": "code",
   "execution_count": 33,
   "id": "e266c769",
   "metadata": {},
   "outputs": [
    {
     "data": {
      "text/html": [
       "<style>#sk-container-id-1 {color: black;background-color: white;}#sk-container-id-1 pre{padding: 0;}#sk-container-id-1 div.sk-toggleable {background-color: white;}#sk-container-id-1 label.sk-toggleable__label {cursor: pointer;display: block;width: 100%;margin-bottom: 0;padding: 0.3em;box-sizing: border-box;text-align: center;}#sk-container-id-1 label.sk-toggleable__label-arrow:before {content: \"▸\";float: left;margin-right: 0.25em;color: #696969;}#sk-container-id-1 label.sk-toggleable__label-arrow:hover:before {color: black;}#sk-container-id-1 div.sk-estimator:hover label.sk-toggleable__label-arrow:before {color: black;}#sk-container-id-1 div.sk-toggleable__content {max-height: 0;max-width: 0;overflow: hidden;text-align: left;background-color: #f0f8ff;}#sk-container-id-1 div.sk-toggleable__content pre {margin: 0.2em;color: black;border-radius: 0.25em;background-color: #f0f8ff;}#sk-container-id-1 input.sk-toggleable__control:checked~div.sk-toggleable__content {max-height: 200px;max-width: 100%;overflow: auto;}#sk-container-id-1 input.sk-toggleable__control:checked~label.sk-toggleable__label-arrow:before {content: \"▾\";}#sk-container-id-1 div.sk-estimator input.sk-toggleable__control:checked~label.sk-toggleable__label {background-color: #d4ebff;}#sk-container-id-1 div.sk-label input.sk-toggleable__control:checked~label.sk-toggleable__label {background-color: #d4ebff;}#sk-container-id-1 input.sk-hidden--visually {border: 0;clip: rect(1px 1px 1px 1px);clip: rect(1px, 1px, 1px, 1px);height: 1px;margin: -1px;overflow: hidden;padding: 0;position: absolute;width: 1px;}#sk-container-id-1 div.sk-estimator {font-family: monospace;background-color: #f0f8ff;border: 1px dotted black;border-radius: 0.25em;box-sizing: border-box;margin-bottom: 0.5em;}#sk-container-id-1 div.sk-estimator:hover {background-color: #d4ebff;}#sk-container-id-1 div.sk-parallel-item::after {content: \"\";width: 100%;border-bottom: 1px solid gray;flex-grow: 1;}#sk-container-id-1 div.sk-label:hover label.sk-toggleable__label {background-color: #d4ebff;}#sk-container-id-1 div.sk-serial::before {content: \"\";position: absolute;border-left: 1px solid gray;box-sizing: border-box;top: 0;bottom: 0;left: 50%;z-index: 0;}#sk-container-id-1 div.sk-serial {display: flex;flex-direction: column;align-items: center;background-color: white;padding-right: 0.2em;padding-left: 0.2em;position: relative;}#sk-container-id-1 div.sk-item {position: relative;z-index: 1;}#sk-container-id-1 div.sk-parallel {display: flex;align-items: stretch;justify-content: center;background-color: white;position: relative;}#sk-container-id-1 div.sk-item::before, #sk-container-id-1 div.sk-parallel-item::before {content: \"\";position: absolute;border-left: 1px solid gray;box-sizing: border-box;top: 0;bottom: 0;left: 50%;z-index: -1;}#sk-container-id-1 div.sk-parallel-item {display: flex;flex-direction: column;z-index: 1;position: relative;background-color: white;}#sk-container-id-1 div.sk-parallel-item:first-child::after {align-self: flex-end;width: 50%;}#sk-container-id-1 div.sk-parallel-item:last-child::after {align-self: flex-start;width: 50%;}#sk-container-id-1 div.sk-parallel-item:only-child::after {width: 0;}#sk-container-id-1 div.sk-dashed-wrapped {border: 1px dashed gray;margin: 0 0.4em 0.5em 0.4em;box-sizing: border-box;padding-bottom: 0.4em;background-color: white;}#sk-container-id-1 div.sk-label label {font-family: monospace;font-weight: bold;display: inline-block;line-height: 1.2em;}#sk-container-id-1 div.sk-label-container {text-align: center;}#sk-container-id-1 div.sk-container {/* jupyter's `normalize.less` sets `[hidden] { display: none; }` but bootstrap.min.css set `[hidden] { display: none !important; }` so we also need the `!important` here to be able to override the default hidden behavior on the sphinx rendered scikit-learn.org. See: https://github.com/scikit-learn/scikit-learn/issues/21755 */display: inline-block !important;position: relative;}#sk-container-id-1 div.sk-text-repr-fallback {display: none;}</style><div id=\"sk-container-id-1\" class=\"sk-top-container\"><div class=\"sk-text-repr-fallback\"><pre>SVC(C=1, kernel=&#x27;linear&#x27;, probability=True)</pre><b>In a Jupyter environment, please rerun this cell to show the HTML representation or trust the notebook. <br />On GitHub, the HTML representation is unable to render, please try loading this page with nbviewer.org.</b></div><div class=\"sk-container\" hidden><div class=\"sk-item\"><div class=\"sk-estimator sk-toggleable\"><input class=\"sk-toggleable__control sk-hidden--visually\" id=\"sk-estimator-id-1\" type=\"checkbox\" checked><label for=\"sk-estimator-id-1\" class=\"sk-toggleable__label sk-toggleable__label-arrow\">SVC</label><div class=\"sk-toggleable__content\"><pre>SVC(C=1, kernel=&#x27;linear&#x27;, probability=True)</pre></div></div></div></div></div>"
      ],
      "text/plain": [
       "SVC(C=1, kernel='linear', probability=True)"
      ]
     },
     "execution_count": 33,
     "metadata": {},
     "output_type": "execute_result"
    }
   ],
   "source": [
    "model = svm.SVC(kernel = 'linear', C = 1, gamma = 'scale', probability = True)\n",
    "\n",
    "model.fit(x_train, y_train)"
   ]
  },
  {
   "cell_type": "markdown",
   "id": "8d75214b",
   "metadata": {},
   "source": [
    "## Probabilistic Prediction"
   ]
  },
  {
   "cell_type": "code",
   "execution_count": 34,
   "id": "6e45edbf",
   "metadata": {},
   "outputs": [],
   "source": [
    "p_prediction = model.predict_proba(x_test)"
   ]
  },
  {
   "cell_type": "markdown",
   "id": "5e77e24d",
   "metadata": {},
   "source": [
    "## Non Probabilistic Prediction"
   ]
  },
  {
   "cell_type": "code",
   "execution_count": 35,
   "id": "2937a24c",
   "metadata": {},
   "outputs": [],
   "source": [
    "np_prediction = model.predict(x_test)"
   ]
  },
  {
   "cell_type": "markdown",
   "id": "30ee4dcb",
   "metadata": {},
   "source": [
    "# Results"
   ]
  },
  {
   "cell_type": "markdown",
   "id": "339f54ec",
   "metadata": {},
   "source": [
    "### Create dataset with prediction results"
   ]
  },
  {
   "cell_type": "code",
   "execution_count": 68,
   "id": "49936c5d",
   "metadata": {},
   "outputs": [
    {
     "data": {
      "text/html": [
       "<div>\n",
       "<style scoped>\n",
       "    .dataframe tbody tr th:only-of-type {\n",
       "        vertical-align: middle;\n",
       "    }\n",
       "\n",
       "    .dataframe tbody tr th {\n",
       "        vertical-align: top;\n",
       "    }\n",
       "\n",
       "    .dataframe thead th {\n",
       "        text-align: right;\n",
       "    }\n",
       "</style>\n",
       "<table border=\"1\" class=\"dataframe\">\n",
       "  <thead>\n",
       "    <tr style=\"text-align: right;\">\n",
       "      <th></th>\n",
       "      <th>Sports</th>\n",
       "      <th>Health</th>\n",
       "      <th>Politics</th>\n",
       "      <th>document</th>\n",
       "      <th>class</th>\n",
       "      <th>name</th>\n",
       "      <th>predicted_class</th>\n",
       "      <th>probability</th>\n",
       "    </tr>\n",
       "  </thead>\n",
       "  <tbody>\n",
       "    <tr>\n",
       "      <th>2</th>\n",
       "      <td>0.005</td>\n",
       "      <td>0.992</td>\n",
       "      <td>0.003</td>\n",
       "      <td>cuba anunció retirada doctores brasil acusar p...</td>\n",
       "      <td>2</td>\n",
       "      <td>Politica_49.txt</td>\n",
       "      <td>1</td>\n",
       "      <td>0.992</td>\n",
       "    </tr>\n",
       "    <tr>\n",
       "      <th>5</th>\n",
       "      <td>0.263</td>\n",
       "      <td>0.623</td>\n",
       "      <td>0.114</td>\n",
       "      <td>conseller sanidad salud pública miguel mínguez...</td>\n",
       "      <td>2</td>\n",
       "      <td>Politica_19.txt</td>\n",
       "      <td>1</td>\n",
       "      <td>0.623</td>\n",
       "    </tr>\n",
       "    <tr>\n",
       "      <th>38</th>\n",
       "      <td>0.016</td>\n",
       "      <td>0.888</td>\n",
       "      <td>0.096</td>\n",
       "      <td>ministerio sanidad política social decidido de...</td>\n",
       "      <td>2</td>\n",
       "      <td>Politica_18.txt</td>\n",
       "      <td>1</td>\n",
       "      <td>0.888</td>\n",
       "    </tr>\n",
       "    <tr>\n",
       "      <th>44</th>\n",
       "      <td>0.437</td>\n",
       "      <td>0.119</td>\n",
       "      <td>0.444</td>\n",
       "      <td>discusión eterna baloncesto grande tiempos pel...</td>\n",
       "      <td>0</td>\n",
       "      <td>Deportes_36.txt</td>\n",
       "      <td>2</td>\n",
       "      <td>0.444</td>\n",
       "    </tr>\n",
       "  </tbody>\n",
       "</table>\n",
       "</div>"
      ],
      "text/plain": [
       "    Sports  Health  Politics  \\\n",
       "2    0.005   0.992     0.003   \n",
       "5    0.263   0.623     0.114   \n",
       "38   0.016   0.888     0.096   \n",
       "44   0.437   0.119     0.444   \n",
       "\n",
       "                                             document  class             name  \\\n",
       "2   cuba anunció retirada doctores brasil acusar p...      2  Politica_49.txt   \n",
       "5   conseller sanidad salud pública miguel mínguez...      2  Politica_19.txt   \n",
       "38  ministerio sanidad política social decidido de...      2  Politica_18.txt   \n",
       "44  discusión eterna baloncesto grande tiempos pel...      0  Deportes_36.txt   \n",
       "\n",
       "    predicted_class  probability  \n",
       "2                 1        0.992  \n",
       "5                 1        0.623  \n",
       "38                1        0.888  \n",
       "44                2        0.444  "
      ]
     },
     "execution_count": 68,
     "metadata": {},
     "output_type": "execute_result"
    }
   ],
   "source": [
    "prediction = [np.round(x,3) for x in p_prediction]\n",
    "\n",
    "prediction_df = pd.DataFrame(p_prediction)\n",
    "prediction_df.columns=['Sports', 'Health', 'Politics']\n",
    "\n",
    "prediction_df['document'] = test_df.iloc[:,0]\n",
    "prediction_df['class'] = y_test\n",
    "prediction_df['name'] = test_df.iloc[:,2]\n",
    "prediction_df['predicted_class'] = np_prediction\n",
    "prediction_df['probability'] = prediction_df[['Sports', 'Health', 'Politics']].max(axis=1)\n",
    "\n",
    "prediction_df[prediction_df['class'] != prediction_df['predicted_class']]"
   ]
  },
  {
   "cell_type": "code",
   "execution_count": 69,
   "id": "0c64477e",
   "metadata": {},
   "outputs": [],
   "source": [
    "p_prediction_df = p_prediction_df.drop(['Sports', 'Health', 'Politics'], axis=1)\n",
    "\n",
    "p_prediction_df.to_excel('corpus/test_results.xlsx', index = False)"
   ]
  },
  {
   "cell_type": "markdown",
   "id": "9403bf14",
   "metadata": {},
   "source": [
    "### Create dataset with non probabilistic prediction metrics"
   ]
  },
  {
   "cell_type": "code",
   "execution_count": 62,
   "id": "b3aaaba0",
   "metadata": {},
   "outputs": [
    {
     "data": {
      "text/html": [
       "<div>\n",
       "<style scoped>\n",
       "    .dataframe tbody tr th:only-of-type {\n",
       "        vertical-align: middle;\n",
       "    }\n",
       "\n",
       "    .dataframe tbody tr th {\n",
       "        vertical-align: top;\n",
       "    }\n",
       "\n",
       "    .dataframe thead th {\n",
       "        text-align: right;\n",
       "    }\n",
       "</style>\n",
       "<table border=\"1\" class=\"dataframe\">\n",
       "  <thead>\n",
       "    <tr style=\"text-align: right;\">\n",
       "      <th></th>\n",
       "      <th>precision</th>\n",
       "      <th>recall</th>\n",
       "      <th>f1-score</th>\n",
       "      <th>support</th>\n",
       "    </tr>\n",
       "  </thead>\n",
       "  <tbody>\n",
       "    <tr>\n",
       "      <th>0</th>\n",
       "      <td>1.000000</td>\n",
       "      <td>0.966667</td>\n",
       "      <td>0.983051</td>\n",
       "      <td>30.000000</td>\n",
       "    </tr>\n",
       "    <tr>\n",
       "      <th>1</th>\n",
       "      <td>0.909091</td>\n",
       "      <td>1.000000</td>\n",
       "      <td>0.952381</td>\n",
       "      <td>30.000000</td>\n",
       "    </tr>\n",
       "    <tr>\n",
       "      <th>2</th>\n",
       "      <td>0.964286</td>\n",
       "      <td>0.900000</td>\n",
       "      <td>0.931034</td>\n",
       "      <td>30.000000</td>\n",
       "    </tr>\n",
       "    <tr>\n",
       "      <th>accuracy</th>\n",
       "      <td>0.955556</td>\n",
       "      <td>0.955556</td>\n",
       "      <td>0.955556</td>\n",
       "      <td>0.955556</td>\n",
       "    </tr>\n",
       "    <tr>\n",
       "      <th>macro avg</th>\n",
       "      <td>0.957792</td>\n",
       "      <td>0.955556</td>\n",
       "      <td>0.955489</td>\n",
       "      <td>90.000000</td>\n",
       "    </tr>\n",
       "    <tr>\n",
       "      <th>weighted avg</th>\n",
       "      <td>0.957792</td>\n",
       "      <td>0.955556</td>\n",
       "      <td>0.955489</td>\n",
       "      <td>90.000000</td>\n",
       "    </tr>\n",
       "  </tbody>\n",
       "</table>\n",
       "</div>"
      ],
      "text/plain": [
       "              precision    recall  f1-score    support\n",
       "0              1.000000  0.966667  0.983051  30.000000\n",
       "1              0.909091  1.000000  0.952381  30.000000\n",
       "2              0.964286  0.900000  0.931034  30.000000\n",
       "accuracy       0.955556  0.955556  0.955556   0.955556\n",
       "macro avg      0.957792  0.955556  0.955489  90.000000\n",
       "weighted avg   0.957792  0.955556  0.955489  90.000000"
      ]
     },
     "execution_count": 62,
     "metadata": {},
     "output_type": "execute_result"
    }
   ],
   "source": [
    "metrics = classification_report(y_test, np_prediction, digits = 3, output_dict = True)\n",
    "\n",
    "metrics_df = pd.DataFrame(metrics).transpose()\n",
    "\n",
    "metrics_df"
   ]
  },
  {
   "cell_type": "markdown",
   "id": "0ee092ab",
   "metadata": {},
   "source": [
    "### Create confusion matrix with non probabilistic prediction metrics"
   ]
  },
  {
   "cell_type": "code",
   "execution_count": 63,
   "id": "bbe3d5bf",
   "metadata": {},
   "outputs": [
    {
     "data": {
      "image/png": "[encoded data removed]",
      "text/plain": [
       "<Figure size 640x480 with 2 Axes>"
      ]
     },
     "metadata": {},
     "output_type": "display_data"
    }
   ],
   "source": [
    "cm = confusion_matrix(y_test, np_prediction, labels=model.classes_)\n",
    "\n",
    "disp = ConfusionMatrixDisplay(confusion_matrix=cm, display_labels=model.classes_)\n",
    "\n",
    "disp.plot()\n",
    "plt.show()"
   ]
  },
  {
   "cell_type": "code",
   "execution_count": null,
   "id": "c5bbc4d9",
   "metadata": {},
   "outputs": [],
   "source": []
  }
 ],
 "metadata": {
  "kernelspec": {
   "display_name": "Python 3 (ipykernel)",
   "language": "python",
   "name": "python3"
  },
  "language_info": {
   "codemirror_mode": {
    "name": "ipython",
    "version": 3
   },
   "file_extension": ".py",
   "mimetype": "text/x-python",
   "name": "python",
   "nbconvert_exporter": "python",
   "pygments_lexer": "ipython3",
   "version": "3.10.8"
  }
 },
 "nbformat": 4,
 "nbformat_minor": 5
}
