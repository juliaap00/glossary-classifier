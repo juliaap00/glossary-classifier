{
 "cells": [
  {
   "cell_type": "code",
   "execution_count": null,
   "id": "344b2f75",
   "metadata": {},
   "outputs": [],
   "source": [
    "import pandas as pd"
   ]
  },
  {
   "cell_type": "markdown",
   "id": "f0d0dfb2",
   "metadata": {},
   "source": [
    "1.- Poner textos de train y test procesados sin stop words en un csv anotando al aldo su clase, divididos\n",
    "2.- Glosario solo con palabras y sus respectivas clses\n"
   ]
  },
  {
   "cell_type": "markdown",
   "id": "95ee0dbe",
   "metadata": {},
   "source": [
    "### Naive Bayes Theorem\n",
    "\n",
    "Crear matriz TFIDF \n",
    "Etiquetado del texto\n",
    "One hot encodign de las clases\n",
    "Cosntruccion del modelo\n",
    "\n",
    "    Model Building\n",
    "    classifier = MultinomialNB()\n",
    "    classifier.fit(tfidf,class_in_int)"
   ]
  },
  {
   "cell_type": "markdown",
   "id": "a3146fb9",
   "metadata": {},
   "source": [
    "Multinomial – It is used for Discrete Counts. The one we described in the example above is an example of Multinomial Type Naïve Bayes.\n",
    "https://hands-on.cloud/implementing-naive-bayes-classification-using-python/"
   ]
  },
  {
   "cell_type": "code",
   "execution_count": null,
   "id": "a71cd898",
   "metadata": {},
   "outputs": [],
   "source": [
    "from sklearn.model_selection import train_test_split\n",
    "from sklearn.naive_bayes import MultinomialNB"
   ]
  },
  {
   "cell_type": "code",
   "execution_count": null,
   "id": "ce6fd805",
   "metadata": {},
   "outputs": [],
   "source": [
    "pred = classifier.predict(tfidf)\n",
    "print(metrics.confusion_matrix(class_in_int,pred),\"\\n\")\n",
    "print(metrics.accuracy_score(class_in_int,pred))"
   ]
  }
 ],
 "metadata": {
  "kernelspec": {
   "display_name": "Python 3 (ipykernel)",
   "language": "python",
   "name": "python3"
  },
  "language_info": {
   "codemirror_mode": {
    "name": "ipython",
    "version": 3
   },
   "file_extension": ".py",
   "mimetype": "text/x-python",
   "name": "python",
   "nbconvert_exporter": "python",
   "pygments_lexer": "ipython3",
   "version": "3.11.0"
  }
 },
 "nbformat": 4,
 "nbformat_minor": 5
}
