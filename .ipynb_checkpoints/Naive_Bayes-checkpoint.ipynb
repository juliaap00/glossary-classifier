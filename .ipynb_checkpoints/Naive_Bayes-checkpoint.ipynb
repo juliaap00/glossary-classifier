{
 "cells": [
  {
   "cell_type": "code",
   "execution_count": 84,
   "id": "4948b646",
   "metadata": {
    "id": "4948b646"
   },
   "outputs": [],
   "source": [
    "import pandas as pd\n",
    "import numpy as np\n",
    "from sklearn.feature_extraction.text import TfidfVectorizer\n",
    "\n",
    "from sklearn.model_selection import train_test_split\n",
    "from sklearn.naive_bayes import MultinomialNB\n",
    "\n",
    "from sklearn.metrics import accuracy_score\n",
    "\n",
    "from sklearn.naive_bayes import GaussianNB\n",
    "\n",
    "from sklearn.naive_bayes import BernoulliNB\n",
    "from sklearn.metrics import classification_report\n",
    "\n",
    "from sklearn.metrics import confusion_matrix, ConfusionMatrixDisplay\n",
    "import matplotlib.pyplot as plt\n",
    "\n"
   ]
  },
  {
   "cell_type": "markdown",
   "id": "54a534db",
   "metadata": {
    "id": "54a534db"
   },
   "source": [
    "## SOBRA\n"
   ]
  },
  {
   "cell_type": "code",
   "execution_count": 85,
   "id": "e3a0105f",
   "metadata": {
    "id": "e3a0105f"
   },
   "outputs": [],
   "source": [
    "sport_df = pd.read_excel('glossary/deportes.xlsx', names = ['word', 'rank'] , usecols = [0,1])\n",
    "sport_df['class'] = 0\n",
    "\n",
    "health_df = pd.read_excel('glossary/salud.xlsx', names = ['word', 'rank'] , usecols = [0,1])\n",
    "health_df['class'] = 1\n",
    "\n",
    "politics_df = pd.read_excel('glossary/politica.xlsx', names = ['word', 'rank'] , usecols = [0,1])\n",
    "politics_df['class'] = 2"
   ]
  },
  {
   "cell_type": "code",
   "execution_count": 86,
   "id": "833e4992",
   "metadata": {
    "id": "833e4992"
   },
   "outputs": [],
   "source": [
    "glossariy_df = pd.concat([sport_df, health_df, politics_df])\n",
    "glossariy_df = glossariy_df.drop_duplicates(subset='word', keep = False)\n",
    "glossariy_df.reset_index(drop=True, inplace=True)"
   ]
  },
  {
   "cell_type": "code",
   "execution_count": 87,
   "id": "6b087207",
   "metadata": {
    "id": "6b087207"
   },
   "outputs": [],
   "source": [
    "df_list = [glossariy_df[glossariy_df['class'] == 0][:100], glossariy_df[glossariy_df['class'] == 1][:100], glossariy_df[glossariy_df['class'] == 2][:100]]\n",
    "\n",
    "glossariy_df = pd.concat(df_list, ignore_index=True)"
   ]
  },
  {
   "cell_type": "markdown",
   "id": "8ae9b580",
   "metadata": {
    "id": "8ae9b580"
   },
   "source": [
    "## --------------------------------------------------"
   ]
  },
  {
   "cell_type": "code",
   "execution_count": 88,
   "id": "47453a6a",
   "metadata": {
    "id": "47453a6a"
   },
   "outputs": [],
   "source": [
    "train_df = pd.read_excel('./corpus/train.xlsx', usecols=[1,2])\n",
    "test_df = pd.read_excel('./corpus/test.xlsx', usecols=[1,2])"
   ]
  },
  {
   "cell_type": "markdown",
   "id": "f9704aec",
   "metadata": {
    "id": "f9704aec"
   },
   "source": [
    "1.- Poner textos de train y test procesados sin stop words en un csv anotando al aldo su clase, divididos\n",
    "2.- Glosario solo con palabras y sus respectivas clses\n"
   ]
  },
  {
   "cell_type": "markdown",
   "id": "d906ac0f",
   "metadata": {
    "id": "d906ac0f"
   },
   "source": [
    "Multinomial – It is used for Discrete Counts. The one we described in the example above is an example of Multinomial Type Naïve Bayes.\n",
    "https://hands-on.cloud/implementing-naive-bayes-classification-using-python/"
   ]
  },
  {
   "cell_type": "code",
   "execution_count": 89,
   "id": "0d16d26c",
   "metadata": {
    "id": "0d16d26c"
   },
   "outputs": [],
   "source": [
    "myvocabulary = list(glossariy_df['word'])"
   ]
  },
  {
   "cell_type": "markdown",
   "id": "FUi28O1Ajhlh",
   "metadata": {
    "id": "FUi28O1Ajhlh"
   },
   "source": [
    "## Generacion de la matriz TF-IDF a partir del glosario extraído"
   ]
  },
  {
   "cell_type": "code",
   "execution_count": 90,
   "id": "5c6bda3e",
   "metadata": {
    "id": "5c6bda3e"
   },
   "outputs": [],
   "source": [
    "vectorizer = TfidfVectorizer(vocabulary = myvocabulary)\n",
    "x_train = vectorizer.fit_transform(train_df.iloc[:,0])\n",
    "x_train = x_train.toarray()\n",
    "\n",
    "x_test  = vectorizer.transform(test_df.iloc[:,0])\n",
    "x_test = x_test.toarray()\n",
    "\n",
    "y_train = train_df.iloc[:,1]\n",
    "y_test  = test_df.iloc[:,1]\n"
   ]
  },
  {
   "cell_type": "code",
   "execution_count": 91,
   "id": "5f780c6a",
   "metadata": {
    "id": "5f780c6a",
    "outputId": "ca14a8ba-d18f-4fbf-bd87-7fc9f486d539"
   },
   "outputs": [
    {
     "data": {
      "text/html": [
       "<div>\n",
       "<style scoped>\n",
       "    .dataframe tbody tr th:only-of-type {\n",
       "        vertical-align: middle;\n",
       "    }\n",
       "\n",
       "    .dataframe tbody tr th {\n",
       "        vertical-align: top;\n",
       "    }\n",
       "\n",
       "    .dataframe thead th {\n",
       "        text-align: right;\n",
       "    }\n",
       "</style>\n",
       "<table border=\"1\" class=\"dataframe\">\n",
       "  <thead>\n",
       "    <tr style=\"text-align: right;\">\n",
       "      <th></th>\n",
       "      <th>equipos</th>\n",
       "      <th>juegos</th>\n",
       "      <th>arco</th>\n",
       "      <th>tiro</th>\n",
       "      <th>federación</th>\n",
       "      <th>balón</th>\n",
       "      <th>oro</th>\n",
       "      <th>set</th>\n",
       "      <th>brown</th>\n",
       "      <th>serbia</th>\n",
       "      <th>...</th>\n",
       "      <th>franja</th>\n",
       "      <th>socialista</th>\n",
       "      <th>fernández</th>\n",
       "      <th>ámbito</th>\n",
       "      <th>judicial</th>\n",
       "      <th>militares</th>\n",
       "      <th>responde</th>\n",
       "      <th>calvo</th>\n",
       "      <th>carmen calvo</th>\n",
       "      <th>afirmado</th>\n",
       "    </tr>\n",
       "  </thead>\n",
       "  <tbody>\n",
       "    <tr>\n",
       "      <th>0</th>\n",
       "      <td>0.0</td>\n",
       "      <td>0.0</td>\n",
       "      <td>0.0</td>\n",
       "      <td>0.0</td>\n",
       "      <td>0.000000</td>\n",
       "      <td>0.0</td>\n",
       "      <td>0.0</td>\n",
       "      <td>0.000000</td>\n",
       "      <td>0.0</td>\n",
       "      <td>0.0</td>\n",
       "      <td>...</td>\n",
       "      <td>0.0</td>\n",
       "      <td>0.0</td>\n",
       "      <td>0.0</td>\n",
       "      <td>0.0</td>\n",
       "      <td>0.0</td>\n",
       "      <td>0.0</td>\n",
       "      <td>0.0</td>\n",
       "      <td>0.0</td>\n",
       "      <td>0.0</td>\n",
       "      <td>0.0</td>\n",
       "    </tr>\n",
       "    <tr>\n",
       "      <th>1</th>\n",
       "      <td>0.0</td>\n",
       "      <td>0.0</td>\n",
       "      <td>0.0</td>\n",
       "      <td>0.0</td>\n",
       "      <td>0.000000</td>\n",
       "      <td>0.0</td>\n",
       "      <td>0.0</td>\n",
       "      <td>0.000000</td>\n",
       "      <td>0.0</td>\n",
       "      <td>0.0</td>\n",
       "      <td>...</td>\n",
       "      <td>0.0</td>\n",
       "      <td>0.0</td>\n",
       "      <td>0.0</td>\n",
       "      <td>0.0</td>\n",
       "      <td>0.0</td>\n",
       "      <td>0.0</td>\n",
       "      <td>0.0</td>\n",
       "      <td>0.0</td>\n",
       "      <td>0.0</td>\n",
       "      <td>0.0</td>\n",
       "    </tr>\n",
       "    <tr>\n",
       "      <th>2</th>\n",
       "      <td>0.0</td>\n",
       "      <td>0.0</td>\n",
       "      <td>0.0</td>\n",
       "      <td>0.0</td>\n",
       "      <td>0.000000</td>\n",
       "      <td>0.0</td>\n",
       "      <td>0.0</td>\n",
       "      <td>0.000000</td>\n",
       "      <td>0.0</td>\n",
       "      <td>0.0</td>\n",
       "      <td>...</td>\n",
       "      <td>0.0</td>\n",
       "      <td>0.0</td>\n",
       "      <td>0.0</td>\n",
       "      <td>0.0</td>\n",
       "      <td>0.0</td>\n",
       "      <td>0.0</td>\n",
       "      <td>0.0</td>\n",
       "      <td>0.0</td>\n",
       "      <td>0.0</td>\n",
       "      <td>0.0</td>\n",
       "    </tr>\n",
       "    <tr>\n",
       "      <th>3</th>\n",
       "      <td>0.0</td>\n",
       "      <td>0.0</td>\n",
       "      <td>0.0</td>\n",
       "      <td>0.0</td>\n",
       "      <td>0.000000</td>\n",
       "      <td>0.0</td>\n",
       "      <td>0.0</td>\n",
       "      <td>0.292281</td>\n",
       "      <td>0.0</td>\n",
       "      <td>0.0</td>\n",
       "      <td>...</td>\n",
       "      <td>0.0</td>\n",
       "      <td>0.0</td>\n",
       "      <td>0.0</td>\n",
       "      <td>0.0</td>\n",
       "      <td>0.0</td>\n",
       "      <td>0.0</td>\n",
       "      <td>0.0</td>\n",
       "      <td>0.0</td>\n",
       "      <td>0.0</td>\n",
       "      <td>0.0</td>\n",
       "    </tr>\n",
       "    <tr>\n",
       "      <th>4</th>\n",
       "      <td>0.0</td>\n",
       "      <td>0.0</td>\n",
       "      <td>0.0</td>\n",
       "      <td>0.0</td>\n",
       "      <td>0.104482</td>\n",
       "      <td>0.0</td>\n",
       "      <td>0.0</td>\n",
       "      <td>0.000000</td>\n",
       "      <td>0.0</td>\n",
       "      <td>0.0</td>\n",
       "      <td>...</td>\n",
       "      <td>0.0</td>\n",
       "      <td>0.0</td>\n",
       "      <td>0.0</td>\n",
       "      <td>0.0</td>\n",
       "      <td>0.0</td>\n",
       "      <td>0.0</td>\n",
       "      <td>0.0</td>\n",
       "      <td>0.0</td>\n",
       "      <td>0.0</td>\n",
       "      <td>0.0</td>\n",
       "    </tr>\n",
       "    <tr>\n",
       "      <th>...</th>\n",
       "      <td>...</td>\n",
       "      <td>...</td>\n",
       "      <td>...</td>\n",
       "      <td>...</td>\n",
       "      <td>...</td>\n",
       "      <td>...</td>\n",
       "      <td>...</td>\n",
       "      <td>...</td>\n",
       "      <td>...</td>\n",
       "      <td>...</td>\n",
       "      <td>...</td>\n",
       "      <td>...</td>\n",
       "      <td>...</td>\n",
       "      <td>...</td>\n",
       "      <td>...</td>\n",
       "      <td>...</td>\n",
       "      <td>...</td>\n",
       "      <td>...</td>\n",
       "      <td>...</td>\n",
       "      <td>...</td>\n",
       "      <td>...</td>\n",
       "    </tr>\n",
       "    <tr>\n",
       "      <th>85</th>\n",
       "      <td>0.0</td>\n",
       "      <td>0.0</td>\n",
       "      <td>0.0</td>\n",
       "      <td>0.0</td>\n",
       "      <td>0.000000</td>\n",
       "      <td>0.0</td>\n",
       "      <td>0.0</td>\n",
       "      <td>0.000000</td>\n",
       "      <td>0.0</td>\n",
       "      <td>0.0</td>\n",
       "      <td>...</td>\n",
       "      <td>0.0</td>\n",
       "      <td>0.0</td>\n",
       "      <td>0.0</td>\n",
       "      <td>0.0</td>\n",
       "      <td>0.0</td>\n",
       "      <td>0.0</td>\n",
       "      <td>0.0</td>\n",
       "      <td>0.0</td>\n",
       "      <td>0.0</td>\n",
       "      <td>0.0</td>\n",
       "    </tr>\n",
       "    <tr>\n",
       "      <th>86</th>\n",
       "      <td>0.0</td>\n",
       "      <td>0.0</td>\n",
       "      <td>0.0</td>\n",
       "      <td>0.0</td>\n",
       "      <td>0.000000</td>\n",
       "      <td>0.0</td>\n",
       "      <td>0.0</td>\n",
       "      <td>0.000000</td>\n",
       "      <td>0.0</td>\n",
       "      <td>0.0</td>\n",
       "      <td>...</td>\n",
       "      <td>0.0</td>\n",
       "      <td>0.0</td>\n",
       "      <td>0.0</td>\n",
       "      <td>0.0</td>\n",
       "      <td>0.0</td>\n",
       "      <td>0.0</td>\n",
       "      <td>0.0</td>\n",
       "      <td>0.0</td>\n",
       "      <td>0.0</td>\n",
       "      <td>0.0</td>\n",
       "    </tr>\n",
       "    <tr>\n",
       "      <th>87</th>\n",
       "      <td>0.0</td>\n",
       "      <td>0.0</td>\n",
       "      <td>0.0</td>\n",
       "      <td>0.0</td>\n",
       "      <td>0.000000</td>\n",
       "      <td>0.0</td>\n",
       "      <td>0.0</td>\n",
       "      <td>0.000000</td>\n",
       "      <td>0.0</td>\n",
       "      <td>0.0</td>\n",
       "      <td>...</td>\n",
       "      <td>0.0</td>\n",
       "      <td>0.0</td>\n",
       "      <td>0.0</td>\n",
       "      <td>0.0</td>\n",
       "      <td>0.0</td>\n",
       "      <td>0.0</td>\n",
       "      <td>0.0</td>\n",
       "      <td>0.0</td>\n",
       "      <td>0.0</td>\n",
       "      <td>0.0</td>\n",
       "    </tr>\n",
       "    <tr>\n",
       "      <th>88</th>\n",
       "      <td>0.0</td>\n",
       "      <td>0.0</td>\n",
       "      <td>0.0</td>\n",
       "      <td>0.0</td>\n",
       "      <td>0.000000</td>\n",
       "      <td>0.0</td>\n",
       "      <td>0.0</td>\n",
       "      <td>0.000000</td>\n",
       "      <td>0.0</td>\n",
       "      <td>0.0</td>\n",
       "      <td>...</td>\n",
       "      <td>0.0</td>\n",
       "      <td>0.0</td>\n",
       "      <td>0.0</td>\n",
       "      <td>0.0</td>\n",
       "      <td>0.0</td>\n",
       "      <td>0.0</td>\n",
       "      <td>0.0</td>\n",
       "      <td>0.0</td>\n",
       "      <td>0.0</td>\n",
       "      <td>0.0</td>\n",
       "    </tr>\n",
       "    <tr>\n",
       "      <th>89</th>\n",
       "      <td>0.0</td>\n",
       "      <td>0.0</td>\n",
       "      <td>0.0</td>\n",
       "      <td>0.0</td>\n",
       "      <td>0.000000</td>\n",
       "      <td>0.0</td>\n",
       "      <td>0.0</td>\n",
       "      <td>0.000000</td>\n",
       "      <td>0.0</td>\n",
       "      <td>0.0</td>\n",
       "      <td>...</td>\n",
       "      <td>0.0</td>\n",
       "      <td>0.0</td>\n",
       "      <td>0.0</td>\n",
       "      <td>0.0</td>\n",
       "      <td>0.0</td>\n",
       "      <td>0.0</td>\n",
       "      <td>0.0</td>\n",
       "      <td>0.0</td>\n",
       "      <td>0.0</td>\n",
       "      <td>0.0</td>\n",
       "    </tr>\n",
       "  </tbody>\n",
       "</table>\n",
       "<p>90 rows × 300 columns</p>\n",
       "</div>"
      ],
      "text/plain": [
       "    equipos  juegos  arco  tiro  federación  balón  oro       set  brown  \\\n",
       "0       0.0     0.0   0.0   0.0    0.000000    0.0  0.0  0.000000    0.0   \n",
       "1       0.0     0.0   0.0   0.0    0.000000    0.0  0.0  0.000000    0.0   \n",
       "2       0.0     0.0   0.0   0.0    0.000000    0.0  0.0  0.000000    0.0   \n",
       "3       0.0     0.0   0.0   0.0    0.000000    0.0  0.0  0.292281    0.0   \n",
       "4       0.0     0.0   0.0   0.0    0.104482    0.0  0.0  0.000000    0.0   \n",
       "..      ...     ...   ...   ...         ...    ...  ...       ...    ...   \n",
       "85      0.0     0.0   0.0   0.0    0.000000    0.0  0.0  0.000000    0.0   \n",
       "86      0.0     0.0   0.0   0.0    0.000000    0.0  0.0  0.000000    0.0   \n",
       "87      0.0     0.0   0.0   0.0    0.000000    0.0  0.0  0.000000    0.0   \n",
       "88      0.0     0.0   0.0   0.0    0.000000    0.0  0.0  0.000000    0.0   \n",
       "89      0.0     0.0   0.0   0.0    0.000000    0.0  0.0  0.000000    0.0   \n",
       "\n",
       "    serbia  ...  franja  socialista  fernández  ámbito  judicial  militares  \\\n",
       "0      0.0  ...     0.0         0.0        0.0     0.0       0.0        0.0   \n",
       "1      0.0  ...     0.0         0.0        0.0     0.0       0.0        0.0   \n",
       "2      0.0  ...     0.0         0.0        0.0     0.0       0.0        0.0   \n",
       "3      0.0  ...     0.0         0.0        0.0     0.0       0.0        0.0   \n",
       "4      0.0  ...     0.0         0.0        0.0     0.0       0.0        0.0   \n",
       "..     ...  ...     ...         ...        ...     ...       ...        ...   \n",
       "85     0.0  ...     0.0         0.0        0.0     0.0       0.0        0.0   \n",
       "86     0.0  ...     0.0         0.0        0.0     0.0       0.0        0.0   \n",
       "87     0.0  ...     0.0         0.0        0.0     0.0       0.0        0.0   \n",
       "88     0.0  ...     0.0         0.0        0.0     0.0       0.0        0.0   \n",
       "89     0.0  ...     0.0         0.0        0.0     0.0       0.0        0.0   \n",
       "\n",
       "    responde  calvo  carmen calvo  afirmado  \n",
       "0        0.0    0.0           0.0       0.0  \n",
       "1        0.0    0.0           0.0       0.0  \n",
       "2        0.0    0.0           0.0       0.0  \n",
       "3        0.0    0.0           0.0       0.0  \n",
       "4        0.0    0.0           0.0       0.0  \n",
       "..       ...    ...           ...       ...  \n",
       "85       0.0    0.0           0.0       0.0  \n",
       "86       0.0    0.0           0.0       0.0  \n",
       "87       0.0    0.0           0.0       0.0  \n",
       "88       0.0    0.0           0.0       0.0  \n",
       "89       0.0    0.0           0.0       0.0  \n",
       "\n",
       "[90 rows x 300 columns]"
      ]
     },
     "execution_count": 91,
     "metadata": {},
     "output_type": "execute_result"
    }
   ],
   "source": [
    "df_x_train = pd.DataFrame(x_train)\n",
    "df_x_train.columns = myvocabulary\n",
    "df_x_train"
   ]
  },
  {
   "cell_type": "code",
   "execution_count": 92,
   "id": "8f7de326",
   "metadata": {
    "id": "8f7de326"
   },
   "outputs": [
    {
     "data": {
      "text/plain": [
       "0     0\n",
       "1     0\n",
       "2     0\n",
       "3     0\n",
       "4     0\n",
       "     ..\n",
       "85    1\n",
       "86    1\n",
       "87    1\n",
       "88    1\n",
       "89    1\n",
       "Name: class, Length: 90, dtype: int64"
      ]
     },
     "execution_count": 92,
     "metadata": {},
     "output_type": "execute_result"
    }
   ],
   "source": [
    "df_y_train = train_df.iloc[:,1]\n",
    "df_y_train"
   ]
  },
  {
   "cell_type": "code",
   "execution_count": 93,
   "id": "6f5be37e",
   "metadata": {
    "id": "6f5be37e",
    "outputId": "20d41066-c31f-44bf-f9d5-234fd617c56f"
   },
   "outputs": [],
   "source": [
    "target_names = ['Deportes', 'Salud', 'Politica']"
   ]
  },
  {
   "cell_type": "markdown",
   "id": "b97d923a",
   "metadata": {},
   "source": [
    "#### Entrenamiento del modelo y obtencion de la precisión del mismo"
   ]
  },
  {
   "cell_type": "code",
   "execution_count": 94,
   "id": "rKkKCvDTj6RQ",
   "metadata": {
    "id": "rKkKCvDTj6RQ"
   },
   "outputs": [],
   "source": [
    "def try_model(model, x_train, y_train, x_test, y_test, model_name):\n",
    "    model.fit(x_train, y_train)\n",
    "    predicciones = model.predict(x_test)\n",
    "    print(accuracy_score(predicciones, y_test))\n",
    "\n",
    "    #get_prediction_metrics(model, model_name, x_test) \n",
    "    get_report(predicciones, target_names, y_test, model_name)\n",
    "    get_confussion_matrix(model, y_test, predicciones)\n",
    "  "
   ]
  },
  {
   "cell_type": "code",
   "execution_count": 95,
   "id": "kuYSMOD6ktzh",
   "metadata": {
    "id": "kuYSMOD6ktzh"
   },
   "outputs": [],
   "source": [
    "def get_prediction_metrics(model, model_name, x_test):\n",
    "  predicciones_prob = model.predict_proba(x_test)\n",
    "  predicciones_rounded = [np.round(x,2) for x in predicciones_prob]\n",
    "\n",
    "  df_predicciones = pd.DataFrame(predicciones_rounded)\n",
    "  df_predicciones.columns=['Deportes' 'Salud', 'Politica']\n",
    "  df_predicciones.index.name = 'Documento'\n",
    "  df_predicciones.to_excel(f\"./resultados/Naive Bayes/predicciones-{model_name}.xlsx\")\n",
    "  \n"
   ]
  },
  {
   "cell_type": "markdown",
   "id": "c2ceb512",
   "metadata": {},
   "source": [
    "#### Obtención de informe sobre los reusltados de la clasificación"
   ]
  },
  {
   "cell_type": "code",
   "execution_count": 96,
   "id": "NYmIeakfmSFR",
   "metadata": {
    "id": "NYmIeakfmSFR"
   },
   "outputs": [],
   "source": [
    "def get_report(predicciones, target_names, y_test, model_name):\n",
    "  informe = classification_report(y_test, predicciones, target_names=target_names, digits=3)\n",
    "  print(informe)\n",
    "\n",
    "\n",
    "  informe = classification_report(y_test, predicciones, target_names=target_names, digits=3, output_dict=True)\n",
    "  df_informe = pd.DataFrame(informe).transpose()\n",
    "\n",
    "  df_informe.to_excel(f\"./resultados/Naive Bayes/informe--{model_name}.xlsx\", index=True)\n",
    "\n",
    "  print(df_informe)"
   ]
  },
  {
   "cell_type": "markdown",
   "id": "a1e0b8b3",
   "metadata": {},
   "source": [
    "#### Obtención de la matriz de confusion del modelo\n"
   ]
  },
  {
   "cell_type": "code",
   "execution_count": 97,
   "id": "EuTJqli5m86g",
   "metadata": {
    "id": "EuTJqli5m86g"
   },
   "outputs": [],
   "source": [
    "def get_confussion_matrix(model, y_test, predicciones):\n",
    "  cm = confusion_matrix(y_test, predicciones, labels=model.classes_)\n",
    "  disp = ConfusionMatrixDisplay(confusion_matrix=cm, display_labels=model.classes_)\n",
    "  disp.plot()\n",
    "  plt.show()\n"
   ]
  },
  {
   "cell_type": "markdown",
   "id": "3P-ABb7ljxBX",
   "metadata": {
    "id": "3P-ABb7ljxBX"
   },
   "source": [
    "### Multinomial Naive Bayes"
   ]
  },
  {
   "cell_type": "code",
   "execution_count": 98,
   "id": "6bfd182f",
   "metadata": {
    "id": "6bfd182f"
   },
   "outputs": [
    {
     "name": "stdout",
     "output_type": "stream",
     "text": [
      "0.9666666666666667\n",
      "              precision    recall  f1-score   support\n",
      "\n",
      "    Deportes      0.968     1.000     0.984        30\n",
      "       Salud      0.938     1.000     0.968        30\n",
      "    Politica      1.000     0.900     0.947        30\n",
      "\n",
      "    accuracy                          0.967        90\n",
      "   macro avg      0.968     0.967     0.966        90\n",
      "weighted avg      0.968     0.967     0.966        90\n",
      "\n",
      "              precision    recall  f1-score    support\n",
      "Deportes       0.967742  1.000000  0.983607  30.000000\n",
      "Salud          0.937500  1.000000  0.967742  30.000000\n",
      "Politica       1.000000  0.900000  0.947368  30.000000\n",
      "accuracy       0.966667  0.966667  0.966667   0.966667\n",
      "macro avg      0.968414  0.966667  0.966239  90.000000\n",
      "weighted avg   0.968414  0.966667  0.966239  90.000000\n"
     ]
    },
    {
     "data": {
      "image/png": "[encoded data removed]",
      "text/plain": [
       "<Figure size 640x480 with 2 Axes>"
      ]
     },
     "metadata": {},
     "output_type": "display_data"
    }
   ],
   "source": [
    "multinomial_naive_bayes = MultinomialNB()\n",
    "try_model(multinomial_naive_bayes, x_train, y_train, x_test, y_test,'multinomial')"
   ]
  },
  {
   "cell_type": "markdown",
   "id": "P2oa5EYulYE3",
   "metadata": {
    "id": "P2oa5EYulYE3"
   },
   "source": [
    "### Gaussian Naive Bayes"
   ]
  },
  {
   "cell_type": "code",
   "execution_count": 99,
   "id": "d666c528",
   "metadata": {
    "id": "d666c528",
    "outputId": "327ac4b3-c5e0-4e52-97b4-71420f333315"
   },
   "outputs": [
    {
     "name": "stdout",
     "output_type": "stream",
     "text": [
      "0.9444444444444444\n",
      "              precision    recall  f1-score   support\n",
      "\n",
      "    Deportes      0.935     0.967     0.951        30\n",
      "       Salud      0.935     0.967     0.951        30\n",
      "    Politica      0.964     0.900     0.931        30\n",
      "\n",
      "    accuracy                          0.944        90\n",
      "   macro avg      0.945     0.944     0.944        90\n",
      "weighted avg      0.945     0.944     0.944        90\n",
      "\n",
      "              precision    recall  f1-score    support\n",
      "Deportes       0.935484  0.966667  0.950820  30.000000\n",
      "Salud          0.935484  0.966667  0.950820  30.000000\n",
      "Politica       0.964286  0.900000  0.931034  30.000000\n",
      "accuracy       0.944444  0.944444  0.944444   0.944444\n",
      "macro avg      0.945084  0.944444  0.944225  90.000000\n",
      "weighted avg   0.945084  0.944444  0.944225  90.000000\n"
     ]
    },
    {
     "data": {
      "image/png": "[encoded data removed]",
      "text/plain": [
       "<Figure size 640x480 with 2 Axes>"
      ]
     },
     "metadata": {},
     "output_type": "display_data"
    }
   ],
   "source": [
    "\n",
    "gaussian_naive_bayes = GaussianNB()\n",
    "try_model(gaussian_naive_bayes, x_train, y_train, x_test, y_test, 'gaussiano')"
   ]
  },
  {
   "cell_type": "markdown",
   "id": "c3jt9MLblcCg",
   "metadata": {
    "id": "c3jt9MLblcCg"
   },
   "source": [
    "### Brenouilli Naive Bayes"
   ]
  },
  {
   "cell_type": "code",
   "execution_count": 100,
   "id": "95de6288",
   "metadata": {
    "id": "95de6288",
    "outputId": "1b7f7ffb-6faa-425c-e0d7-b24f287edb88"
   },
   "outputs": [
    {
     "name": "stdout",
     "output_type": "stream",
     "text": [
      "0.9333333333333333\n",
      "              precision    recall  f1-score   support\n",
      "\n",
      "    Deportes      1.000     0.900     0.947        30\n",
      "       Salud      0.857     1.000     0.923        30\n",
      "    Politica      0.964     0.900     0.931        30\n",
      "\n",
      "    accuracy                          0.933        90\n",
      "   macro avg      0.940     0.933     0.934        90\n",
      "weighted avg      0.940     0.933     0.934        90\n",
      "\n",
      "              precision    recall  f1-score    support\n",
      "Deportes       1.000000  0.900000  0.947368  30.000000\n",
      "Salud          0.857143  1.000000  0.923077  30.000000\n",
      "Politica       0.964286  0.900000  0.931034  30.000000\n",
      "accuracy       0.933333  0.933333  0.933333   0.933333\n",
      "macro avg      0.940476  0.933333  0.933827  90.000000\n",
      "weighted avg   0.940476  0.933333  0.933827  90.000000\n"
     ]
    },
    {
     "data": {
      "image/png": "[encoded data removed]",
      "text/plain": [
       "<Figure size 640x480 with 2 Axes>"
      ]
     },
     "metadata": {},
     "output_type": "display_data"
    }
   ],
   "source": [
    "\n",
    "bernouilli_naive_bayes = BernoulliNB()\n",
    "try_model(bernouilli_naive_bayes, x_train, y_train, x_test, y_test,  'brenoulli')"
   ]
  },
  {
   "cell_type": "code",
   "execution_count": null,
   "id": "16eead53",
   "metadata": {
    "id": "16eead53"
   },
   "outputs": [],
   "source": []
  }
 ],
 "metadata": {
  "colab": {
   "provenance": []
  },
  "kernelspec": {
   "display_name": "Python 3 (ipykernel)",
   "language": "python",
   "name": "python3"
  },
  "language_info": {
   "codemirror_mode": {
    "name": "ipython",
    "version": 3
   },
   "file_extension": ".py",
   "mimetype": "text/x-python",
   "name": "python",
   "nbconvert_exporter": "python",
   "pygments_lexer": "ipython3",
   "version": "3.11.0"
  }
 },
 "nbformat": 4,
 "nbformat_minor": 5
}
