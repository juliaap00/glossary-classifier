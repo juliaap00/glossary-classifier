{
 "cells": [
  {
   "cell_type": "code",
   "execution_count": 392,
   "id": "4948b646",
   "metadata": {
    "id": "4948b646"
   },
   "outputs": [],
   "source": [
    "import pandas as pd\n",
    "import numpy as np\n",
    "from sklearn.feature_extraction.text import TfidfVectorizer\n",
    "\n",
    "from sklearn.model_selection import train_test_split\n",
    "from sklearn.naive_bayes import MultinomialNB\n",
    "\n",
    "from sklearn.metrics import accuracy_score\n",
    "\n",
    "from sklearn.naive_bayes import GaussianNB\n",
    "\n",
    "from sklearn.naive_bayes import BernoulliNB\n",
    "from sklearn.metrics import classification_report\n",
    "\n",
    "from sklearn.metrics import confusion_matrix, ConfusionMatrixDisplay\n",
    "import matplotlib.pyplot as plt\n",
    "\n"
   ]
  },
  {
   "cell_type": "markdown",
   "id": "54a534db",
   "metadata": {
    "id": "54a534db"
   },
   "source": [
    "## SOBRA\n"
   ]
  },
  {
   "cell_type": "code",
   "execution_count": 393,
   "id": "e3a0105f",
   "metadata": {
    "id": "e3a0105f"
   },
   "outputs": [],
   "source": [
    "sport_df = pd.read_excel('glossary/deportes.xlsx', names = ['word', 'rank'] , usecols = [0,1])\n",
    "sport_df['class'] = 0\n",
    "\n",
    "health_df = pd.read_excel('glossary/salud.xlsx', names = ['word', 'rank'] , usecols = [0,1])\n",
    "health_df['class'] = 1\n",
    "\n",
    "politics_df = pd.read_excel('glossary/politica.xlsx', names = ['word', 'rank'] , usecols = [0,1])\n",
    "politics_df['class'] = 2"
   ]
  },
  {
   "cell_type": "code",
   "execution_count": 394,
   "id": "833e4992",
   "metadata": {
    "id": "833e4992"
   },
   "outputs": [],
   "source": [
    "glossariy_df = pd.concat([sport_df, health_df, politics_df])\n",
    "glossariy_df = glossariy_df.drop_duplicates(subset='word', keep = False)\n",
    "glossariy_df.reset_index(drop=True, inplace=True)"
   ]
  },
  {
   "cell_type": "code",
   "execution_count": 395,
   "id": "6b087207",
   "metadata": {
    "id": "6b087207"
   },
   "outputs": [],
   "source": [
    "df_list = [glossariy_df[glossariy_df['class'] == 0][:100], glossariy_df[glossariy_df['class'] == 1][:100], glossariy_df[glossariy_df['class'] == 2][:100]]\n",
    "\n",
    "glossariy_df = pd.concat(df_list, ignore_index=True)"
   ]
  },
  {
   "cell_type": "markdown",
   "id": "8ae9b580",
   "metadata": {
    "id": "8ae9b580"
   },
   "source": [
    "## --------------------------------------------------"
   ]
  },
  {
   "cell_type": "code",
   "execution_count": 396,
   "id": "47453a6a",
   "metadata": {
    "id": "47453a6a"
   },
   "outputs": [],
   "source": [
    "train_df = pd.read_excel('./corpus/train.xlsx', usecols=[0,1])\n",
    "test_df = pd.read_excel('./corpus/test.xlsx', usecols=[0,1])"
   ]
  },
  {
   "cell_type": "markdown",
   "id": "f9704aec",
   "metadata": {
    "id": "f9704aec"
   },
   "source": [
    "1.- Poner textos de train y test procesados sin stop words en un csv anotando al aldo su clase, divididos\n",
    "2.- Glosario solo con palabras y sus respectivas clses\n"
   ]
  },
  {
   "cell_type": "markdown",
   "id": "d906ac0f",
   "metadata": {
    "id": "d906ac0f"
   },
   "source": [
    "Multinomial – It is used for Discrete Counts. The one we described in the example above is an example of Multinomial Type Naïve Bayes.\n",
    "https://hands-on.cloud/implementing-naive-bayes-classification-using-python/"
   ]
  },
  {
   "cell_type": "code",
   "execution_count": 397,
   "id": "fcac8688",
   "metadata": {},
   "outputs": [
    {
     "data": {
      "text/html": [
       "<div>\n",
       "<style scoped>\n",
       "    .dataframe tbody tr th:only-of-type {\n",
       "        vertical-align: middle;\n",
       "    }\n",
       "\n",
       "    .dataframe tbody tr th {\n",
       "        vertical-align: top;\n",
       "    }\n",
       "\n",
       "    .dataframe thead th {\n",
       "        text-align: right;\n",
       "    }\n",
       "</style>\n",
       "<table border=\"1\" class=\"dataframe\">\n",
       "  <thead>\n",
       "    <tr style=\"text-align: right;\">\n",
       "      <th></th>\n",
       "      <th>document</th>\n",
       "      <th>class</th>\n",
       "    </tr>\n",
       "  </thead>\n",
       "  <tbody>\n",
       "    <tr>\n",
       "      <th>0</th>\n",
       "      <td>falta metodología científica perspectiva géner...</td>\n",
       "      <td>2</td>\n",
       "    </tr>\n",
       "    <tr>\n",
       "      <th>1</th>\n",
       "      <td>fármaco lecanemab impacta forma moderada avanc...</td>\n",
       "      <td>1</td>\n",
       "    </tr>\n",
       "    <tr>\n",
       "      <th>2</th>\n",
       "      <td>kim jongun recuperó atención desarrollo arsena...</td>\n",
       "      <td>2</td>\n",
       "    </tr>\n",
       "    <tr>\n",
       "      <th>3</th>\n",
       "      <td>años toma posesión presidente populista méxico...</td>\n",
       "      <td>2</td>\n",
       "    </tr>\n",
       "    <tr>\n",
       "      <th>4</th>\n",
       "      <td>españaserbia duelo típico semifinales valencia...</td>\n",
       "      <td>0</td>\n",
       "    </tr>\n",
       "    <tr>\n",
       "      <th>...</th>\n",
       "      <td>...</td>\n",
       "      <td>...</td>\n",
       "    </tr>\n",
       "    <tr>\n",
       "      <th>85</th>\n",
       "      <td>resolución tramitación ley trans motivo princi...</td>\n",
       "      <td>2</td>\n",
       "    </tr>\n",
       "    <tr>\n",
       "      <th>86</th>\n",
       "      <td>gracias fútbol volvernos locos ocasiones punto...</td>\n",
       "      <td>0</td>\n",
       "    </tr>\n",
       "    <tr>\n",
       "      <th>87</th>\n",
       "      <td>alexander zverev demostró domingo estable juga...</td>\n",
       "      <td>0</td>\n",
       "    </tr>\n",
       "    <tr>\n",
       "      <th>88</th>\n",
       "      <td>noviembre agencia española medicamentos produc...</td>\n",
       "      <td>1</td>\n",
       "    </tr>\n",
       "    <tr>\n",
       "      <th>89</th>\n",
       "      <td>acudir médico surge problema salud recoger res...</td>\n",
       "      <td>1</td>\n",
       "    </tr>\n",
       "  </tbody>\n",
       "</table>\n",
       "<p>90 rows × 2 columns</p>\n",
       "</div>"
      ],
      "text/plain": [
       "                                             document  class\n",
       "0   falta metodología científica perspectiva géner...      2\n",
       "1   fármaco lecanemab impacta forma moderada avanc...      1\n",
       "2   kim jongun recuperó atención desarrollo arsena...      2\n",
       "3   años toma posesión presidente populista méxico...      2\n",
       "4   españaserbia duelo típico semifinales valencia...      0\n",
       "..                                                ...    ...\n",
       "85  resolución tramitación ley trans motivo princi...      2\n",
       "86  gracias fútbol volvernos locos ocasiones punto...      0\n",
       "87  alexander zverev demostró domingo estable juga...      0\n",
       "88  noviembre agencia española medicamentos produc...      1\n",
       "89  acudir médico surge problema salud recoger res...      1\n",
       "\n",
       "[90 rows x 2 columns]"
      ]
     },
     "execution_count": 397,
     "metadata": {},
     "output_type": "execute_result"
    }
   ],
   "source": [
    "train_df"
   ]
  },
  {
   "cell_type": "code",
   "execution_count": 398,
   "id": "0d16d26c",
   "metadata": {
    "id": "0d16d26c"
   },
   "outputs": [],
   "source": [
    "myvocabulary = list(glossariy_df['word'])"
   ]
  },
  {
   "cell_type": "markdown",
   "id": "FUi28O1Ajhlh",
   "metadata": {
    "id": "FUi28O1Ajhlh"
   },
   "source": [
    "## Generacion de la matriz TF-IDF a partir del glosario extraído"
   ]
  },
  {
   "cell_type": "code",
   "execution_count": 399,
   "id": "5c6bda3e",
   "metadata": {
    "id": "5c6bda3e"
   },
   "outputs": [],
   "source": [
    "vectorizer = TfidfVectorizer(vocabulary = myvocabulary)\n",
    "x_train = vectorizer.fit_transform(train_df.iloc[:,0])\n",
    "x_train = x_train.toarray()\n",
    "\n",
    "x_test  = vectorizer.transform(test_df.iloc[:,0])\n",
    "x_test = x_test.toarray()\n",
    "\n",
    "y_train = train_df.iloc[:,1]\n",
    "y_test  = test_df.iloc[:,1]\n"
   ]
  },
  {
   "cell_type": "code",
   "execution_count": 400,
   "id": "5f780c6a",
   "metadata": {
    "id": "5f780c6a",
    "outputId": "ca14a8ba-d18f-4fbf-bd87-7fc9f486d539"
   },
   "outputs": [
    {
     "data": {
      "text/plain": [
       "0     2\n",
       "1     1\n",
       "2     0\n",
       "3     0\n",
       "4     1\n",
       "     ..\n",
       "85    0\n",
       "86    0\n",
       "87    0\n",
       "88    2\n",
       "89    0\n",
       "Name: class, Length: 90, dtype: int64"
      ]
     },
     "execution_count": 400,
     "metadata": {},
     "output_type": "execute_result"
    }
   ],
   "source": [
    "df_x_train = pd.DataFrame(x_train)\n",
    "df_x_train.columns = myvocabulary\n",
    "y_test"
   ]
  },
  {
   "cell_type": "code",
   "execution_count": 401,
   "id": "8f7de326",
   "metadata": {
    "id": "8f7de326"
   },
   "outputs": [
    {
     "data": {
      "text/plain": [
       "0     2\n",
       "1     1\n",
       "2     2\n",
       "3     2\n",
       "4     0\n",
       "     ..\n",
       "85    2\n",
       "86    0\n",
       "87    0\n",
       "88    1\n",
       "89    1\n",
       "Name: class, Length: 90, dtype: int64"
      ]
     },
     "execution_count": 401,
     "metadata": {},
     "output_type": "execute_result"
    }
   ],
   "source": [
    "df_y_train = train_df.iloc[:,1]\n",
    "df_y_train"
   ]
  },
  {
   "cell_type": "code",
   "execution_count": 402,
   "id": "6f5be37e",
   "metadata": {
    "id": "6f5be37e",
    "outputId": "20d41066-c31f-44bf-f9d5-234fd617c56f"
   },
   "outputs": [],
   "source": [
    "target_names = ['Deportes', 'Salud', 'Politica']"
   ]
  },
  {
   "cell_type": "markdown",
   "id": "b97d923a",
   "metadata": {},
   "source": [
    "#### Entrenamiento del modelo y obtencion de la precisión del mismo"
   ]
  },
  {
   "cell_type": "code",
   "execution_count": 403,
   "id": "rKkKCvDTj6RQ",
   "metadata": {
    "id": "rKkKCvDTj6RQ"
   },
   "outputs": [],
   "source": [
    "def try_model(model, x_train, y_train, x_test, y_test, model_name):\n",
    "    model.fit(x_train, y_train)\n",
    "    predicciones = model.predict(x_test)\n",
    "    print(accuracy_score(predicciones, y_test))\n",
    "    print(predicciones)\n",
    "    predicciones_prob = get_prediction_metrics(model, model_name, x_test) \n",
    "    get_report(predicciones, target_names, y_test, model_name)\n",
    "    get_confussion_matrix(model, y_test, predicciones)\n",
    "    return predicciones, predicciones_prob\n",
    "  "
   ]
  },
  {
   "cell_type": "code",
   "execution_count": 404,
   "id": "kuYSMOD6ktzh",
   "metadata": {
    "id": "kuYSMOD6ktzh"
   },
   "outputs": [],
   "source": [
    "def get_prediction_metrics(model, model_name, x_test):\n",
    "  predicciones_prob = model.predict_proba(x_test)\n",
    "  print(predicciones_prob)\n",
    "  predicciones_rounded = [np.round(x,2) for x in predicciones_prob]\n",
    "\n",
    "  df_predicciones = pd.DataFrame(predicciones_rounded)\n",
    "  df_predicciones.columns=['Deportes', 'Salud', 'Politica']\n",
    "  df_predicciones.index.name = 'Documento'\n",
    "  df_predicciones.to_excel(f\"./resultados/Naive Bayes/predicciones-{model_name}.xlsx\")\n",
    "  return predicciones_prob\n"
   ]
  },
  {
   "cell_type": "markdown",
   "id": "c2ceb512",
   "metadata": {},
   "source": [
    "#### Obtención de informe sobre los reusltados de la clasificación"
   ]
  },
  {
   "cell_type": "code",
   "execution_count": 405,
   "id": "NYmIeakfmSFR",
   "metadata": {
    "id": "NYmIeakfmSFR"
   },
   "outputs": [],
   "source": [
    "def get_report(predicciones, target_names, y_test, model_name):\n",
    "  informe = classification_report(y_test, predicciones, target_names=target_names, digits=3)\n",
    "  print(informe)\n",
    "\n",
    "\n",
    "  informe = classification_report(y_test, predicciones, target_names=target_names, digits=3, output_dict=True)\n",
    "  df_informe = pd.DataFrame(informe).transpose()\n",
    "\n",
    "  df_informe.to_excel(f\"./resultados/Naive Bayes/informe--{model_name}.xlsx\", index=True)\n",
    "\n",
    "  print(df_informe)"
   ]
  },
  {
   "cell_type": "markdown",
   "id": "a1e0b8b3",
   "metadata": {},
   "source": [
    "#### Obtención de la matriz de confusion del modelo\n"
   ]
  },
  {
   "cell_type": "code",
   "execution_count": 406,
   "id": "EuTJqli5m86g",
   "metadata": {
    "id": "EuTJqli5m86g"
   },
   "outputs": [],
   "source": [
    "def get_confussion_matrix(model, y_test, predicciones):\n",
    "  cm = confusion_matrix(y_test, predicciones, labels=model.classes_)\n",
    "  disp = ConfusionMatrixDisplay(confusion_matrix=cm, display_labels=model.classes_)\n",
    "  disp.plot()\n",
    "  plt.show()\n"
   ]
  },
  {
   "cell_type": "code",
   "execution_count": 407,
   "id": "c1653ae4",
   "metadata": {},
   "outputs": [],
   "source": [
    "def predictions_to_excel(predicciones, prob_predicciones, aux):\n",
    "    df_predicciones = pd.DataFrame()\n",
    "    \n",
    "    \n",
    "    df_predicciones[\"predicted_class\"] = []\n",
    "    df_predicciones[\"probability\"] = []\n",
    "    \n",
    "    \n",
    "    \n",
    "    \n",
    "    for i in range(len(predicciones)):\n",
    "        df_predicciones.loc[len(df_predicciones)] = [predicciones[i], prob_predicciones[i][predicciones[i]]]\n",
    "        aux.loc[len(df_train)] = prob_predicciones[i]\n",
    "        print(prob_predicciones[i])\n",
    "    return df_predicciones\n",
    "    "
   ]
  },
  {
   "cell_type": "markdown",
   "id": "3P-ABb7ljxBX",
   "metadata": {
    "id": "3P-ABb7ljxBX"
   },
   "source": [
    "### Multinomial Naive Bayes"
   ]
  },
  {
   "cell_type": "code",
   "execution_count": 408,
   "id": "6bfd182f",
   "metadata": {
    "id": "6bfd182f",
    "scrolled": true
   },
   "outputs": [
    {
     "name": "stdout",
     "output_type": "stream",
     "text": [
      "0.9666666666666667\n",
      "[2 1 0 0 1 1 2 1 1 2 1 1 1 0 2 2 0 0 1 0 2 1 1 0 0 0 2 2 1 1 1 0 1 0 2 0 1\n",
      " 1 0 1 0 1 0 2 0 1 1 1 1 2 2 2 0 2 2 0 2 2 1 0 0 0 0 1 2 1 0 1 2 2 0 1 1 2\n",
      " 0 2 2 0 2 1 1 2 1 0 2 0 0 0 2 0]\n",
      "[[0.21423952 0.22171436 0.56404612]\n",
      " [0.14673981 0.6829165  0.17034368]\n",
      " [0.64994707 0.1751004  0.17495253]\n",
      " [0.71295824 0.14362852 0.14341324]\n",
      " [0.23061515 0.52718156 0.2422033 ]\n",
      " [0.15569403 0.716552   0.12775397]\n",
      " [0.19023791 0.22728893 0.58247316]\n",
      " [0.18085856 0.62582766 0.19331379]\n",
      " [0.16885355 0.65237318 0.17877326]\n",
      " [0.30147665 0.24588682 0.45263653]\n",
      " [0.17035482 0.55739764 0.27224754]\n",
      " [0.18400674 0.62108343 0.19490983]\n",
      " [0.12380309 0.75402941 0.1221675 ]\n",
      " [0.72738519 0.13074645 0.14186836]\n",
      " [0.1738096  0.22721534 0.59897506]\n",
      " [0.19198221 0.18289334 0.62512445]\n",
      " [0.79092991 0.10462005 0.10445004]\n",
      " [0.67866898 0.16075238 0.16057864]\n",
      " [0.2259859  0.56770513 0.20630897]\n",
      " [0.74655819 0.11233247 0.14110934]\n",
      " [0.15772125 0.18522538 0.65705337]\n",
      " [0.20312998 0.54239888 0.25447114]\n",
      " [0.14643343 0.71498299 0.13858358]\n",
      " [0.78913535 0.10108455 0.1097801 ]\n",
      " [0.75426997 0.12585868 0.11987135]\n",
      " [0.7399616  0.13009247 0.12994593]\n",
      " [0.17957654 0.17747917 0.64294429]\n",
      " [0.11731298 0.11000706 0.77267996]\n",
      " [0.20418314 0.53816934 0.25764752]\n",
      " [0.12652527 0.74554992 0.12792481]\n",
      " [0.12870905 0.70387774 0.16741321]\n",
      " [0.63839883 0.17087994 0.19072123]\n",
      " [0.13033925 0.72227706 0.1473837 ]\n",
      " [0.79390336 0.10062034 0.1054763 ]\n",
      " [0.21051656 0.21037652 0.57910692]\n",
      " [0.64065205 0.1806584  0.17868955]\n",
      " [0.18268252 0.62255316 0.19476433]\n",
      " [0.1967527  0.5040649  0.2991824 ]\n",
      " [0.70175647 0.15508028 0.14316325]\n",
      " [0.16540711 0.67252793 0.16206497]\n",
      " [0.63084473 0.18466942 0.18448585]\n",
      " [0.21837873 0.59003387 0.1915874 ]\n",
      " [0.80282145 0.09643729 0.10074126]\n",
      " [0.17353632 0.14307465 0.68338903]\n",
      " [0.67961513 0.15901385 0.16137101]\n",
      " [0.20260187 0.60031218 0.19708595]\n",
      " [0.16518409 0.6527458  0.18207012]\n",
      " [0.17679199 0.59858937 0.22461864]\n",
      " [0.23175636 0.54692807 0.22131557]\n",
      " [0.20405945 0.20935603 0.58658452]\n",
      " [0.22477877 0.172698   0.60252323]\n",
      " [0.12691016 0.13462468 0.73846516]\n",
      " [0.53237697 0.2450365  0.22258653]\n",
      " [0.11504537 0.12546173 0.7594929 ]\n",
      " [0.19895084 0.2006395  0.60040966]\n",
      " [0.77709632 0.11154457 0.11135911]\n",
      " [0.13910025 0.1595763  0.70132345]\n",
      " [0.10130914 0.10924214 0.78944873]\n",
      " [0.35544897 0.4076086  0.23694243]\n",
      " [0.83607128 0.07473197 0.08919675]\n",
      " [0.37674779 0.37498239 0.24826982]\n",
      " [0.68723609 0.15648003 0.15628388]\n",
      " [0.81990182 0.09012047 0.08997771]\n",
      " [0.196217   0.51135003 0.29243298]\n",
      " [0.12110731 0.13179212 0.74710057]\n",
      " [0.22000871 0.54989698 0.23009431]\n",
      " [0.57467917 0.24830853 0.1770123 ]\n",
      " [0.17473905 0.64022791 0.18503303]\n",
      " [0.12883598 0.12298808 0.74817593]\n",
      " [0.24749015 0.24682933 0.50568051]\n",
      " [0.78206108 0.10905618 0.10888274]\n",
      " [0.16681867 0.5847958  0.24838554]\n",
      " [0.15246053 0.68275191 0.16478756]\n",
      " [0.13909115 0.16214083 0.69876803]\n",
      " [0.82698196 0.08724672 0.08577132]\n",
      " [0.20004318 0.20978599 0.59017084]\n",
      " [0.16694885 0.15628958 0.67676157]\n",
      " [0.74347701 0.12969763 0.12682536]\n",
      " [0.09191375 0.10507663 0.80300962]\n",
      " [0.19282324 0.49726445 0.3099123 ]\n",
      " [0.23176163 0.52588972 0.24234866]\n",
      " [0.13404227 0.15736164 0.70859609]\n",
      " [0.18189049 0.62649441 0.1916151 ]\n",
      " [0.7568656  0.11738275 0.12575165]\n",
      " [0.13248916 0.17037964 0.6971312 ]\n",
      " [0.38710505 0.27448127 0.33841368]\n",
      " [0.66629543 0.15805467 0.17564991]\n",
      " [0.53154219 0.23433333 0.23412448]\n",
      " [0.19121797 0.22494283 0.5838392 ]\n",
      " [0.76788935 0.12241381 0.10969684]]\n",
      "              precision    recall  f1-score   support\n",
      "\n",
      "    Deportes      0.968     1.000     0.984        30\n",
      "       Salud      0.938     1.000     0.968        30\n",
      "    Politica      1.000     0.900     0.947        30\n",
      "\n",
      "    accuracy                          0.967        90\n",
      "   macro avg      0.968     0.967     0.966        90\n",
      "weighted avg      0.968     0.967     0.966        90\n",
      "\n",
      "              precision    recall  f1-score    support\n",
      "Deportes       0.967742  1.000000  0.983607  30.000000\n",
      "Salud          0.937500  1.000000  0.967742  30.000000\n",
      "Politica       1.000000  0.900000  0.947368  30.000000\n",
      "accuracy       0.966667  0.966667  0.966667   0.966667\n",
      "macro avg      0.968414  0.966667  0.966239  90.000000\n",
      "weighted avg   0.968414  0.966667  0.966239  90.000000\n"
     ]
    },
    {
     "data": {
      "image/png": "[encoded data removed]",
      "text/plain": [
       "<Figure size 640x480 with 2 Axes>"
      ]
     },
     "metadata": {},
     "output_type": "display_data"
    },
    {
     "name": "stdout",
     "output_type": "stream",
     "text": [
      "\n",
      "\n",
      "\n",
      "\n",
      "\n",
      "\n",
      "\n",
      "\n",
      "\n",
      "\n",
      "\n",
      "\n",
      "\n",
      "\n",
      "\n",
      "\n",
      "\n",
      "\n",
      "\n",
      "\n",
      "\n",
      "\n",
      "\n",
      "\n",
      "\n",
      "\n",
      "\n",
      "\n",
      "\n",
      "\n",
      "\n",
      "\n",
      "\n",
      "\n",
      "\n",
      "\n",
      "\n",
      "\n",
      "\n",
      "\n",
      "\n",
      "\n",
      "\n",
      "\n",
      "\n",
      "\n",
      "\n",
      "\n",
      "\n",
      "\n",
      "\n",
      "\n",
      "\n",
      "\n",
      "\n",
      "\n",
      "\n",
      "\n",
      "\n",
      "\n",
      "\n",
      "\n",
      "\n",
      "\n",
      "\n",
      "\n",
      "\n",
      "\n",
      "\n",
      "\n",
      "\n",
      "\n",
      "\n",
      "\n",
      "\n",
      "\n",
      "\n",
      "\n",
      "\n",
      "\n",
      "\n",
      "\n",
      "\n",
      "\n",
      "\n",
      "\n",
      "\n",
      "\n",
      "\n",
      "\n"
     ]
    },
    {
     "data": {
      "text/html": [
       "<div>\n",
       "<style scoped>\n",
       "    .dataframe tbody tr th:only-of-type {\n",
       "        vertical-align: middle;\n",
       "    }\n",
       "\n",
       "    .dataframe tbody tr th {\n",
       "        vertical-align: top;\n",
       "    }\n",
       "\n",
       "    .dataframe thead th {\n",
       "        text-align: right;\n",
       "    }\n",
       "</style>\n",
       "<table border=\"1\" class=\"dataframe\">\n",
       "  <thead>\n",
       "    <tr style=\"text-align: right;\">\n",
       "      <th></th>\n",
       "      <th>sports</th>\n",
       "      <th>heatlh</th>\n",
       "      <th>politic</th>\n",
       "      <th>document</th>\n",
       "      <th>class</th>\n",
       "      <th>name</th>\n",
       "      <th>predicted_class</th>\n",
       "      <th>probability</th>\n",
       "    </tr>\n",
       "  </thead>\n",
       "  <tbody>\n",
       "    <tr>\n",
       "      <th>21</th>\n",
       "      <td>NaN</td>\n",
       "      <td>NaN</td>\n",
       "      <td>NaN</td>\n",
       "      <td>cuba anunció retirada doctores brasil acusar p...</td>\n",
       "      <td>2</td>\n",
       "      <td>Politica_49.txt</td>\n",
       "      <td>1.0</td>\n",
       "      <td>0.542399</td>\n",
       "    </tr>\n",
       "    <tr>\n",
       "      <th>60</th>\n",
       "      <td>NaN</td>\n",
       "      <td>NaN</td>\n",
       "      <td>NaN</td>\n",
       "      <td>conseller sanidad salud pública miguel mínguez...</td>\n",
       "      <td>2</td>\n",
       "      <td>Politica_19.txt</td>\n",
       "      <td>0.0</td>\n",
       "      <td>0.376748</td>\n",
       "    </tr>\n",
       "    <tr>\n",
       "      <th>79</th>\n",
       "      <td>NaN</td>\n",
       "      <td>NaN</td>\n",
       "      <td>NaN</td>\n",
       "      <td>ministerio sanidad política social decidido de...</td>\n",
       "      <td>2</td>\n",
       "      <td>Politica_18.txt</td>\n",
       "      <td>1.0</td>\n",
       "      <td>0.497264</td>\n",
       "    </tr>\n",
       "  </tbody>\n",
       "</table>\n",
       "</div>"
      ],
      "text/plain": [
       "    sports  heatlh  politic  \\\n",
       "21     NaN     NaN      NaN   \n",
       "60     NaN     NaN      NaN   \n",
       "79     NaN     NaN      NaN   \n",
       "\n",
       "                                             document  class             name  \\\n",
       "21  cuba anunció retirada doctores brasil acusar p...      2  Politica_49.txt   \n",
       "60  conseller sanidad salud pública miguel mínguez...      2  Politica_19.txt   \n",
       "79  ministerio sanidad política social decidido de...      2  Politica_18.txt   \n",
       "\n",
       "    predicted_class  probability  \n",
       "21              1.0     0.542399  \n",
       "60              0.0     0.376748  \n",
       "79              1.0     0.497264  "
      ]
     },
     "execution_count": 408,
     "metadata": {},
     "output_type": "execute_result"
    }
   ],
   "source": [
    "multinomial_naive_bayes = MultinomialNB()\n",
    "predicciones,prob_predicciones = try_model(multinomial_naive_bayes, x_train, y_train, x_test, y_test,'multinomial')\n",
    "test_df =  pd.read_excel('./corpus/test.xlsx')\n",
    "aux = pd.DataFrame()\n",
    "aux['sports'] = []\n",
    "aux['heatlh'] = []\n",
    "aux['politic'] = []\n",
    "\n",
    "df_predicciones = predictions_to_excel(predicciones,prob_predicciones, aux)\n",
    "aux = pd.concat([aux,test_df],axis=1).ffill() \n",
    "aux = pd.concat([aux,df_predicciones],axis=1).ffill() \n",
    "df_predcciones_total = pd.concat([aux,df_predicciones],axis=1).ffill() \n",
    "\n",
    "pd.concat([test_df,df_predicciones],axis=1).ffill()\n",
    "\n",
    "aux[aux['class'] != aux['predicted_class']]"
   ]
  },
  {
   "cell_type": "code",
   "execution_count": null,
   "id": "b5c10491",
   "metadata": {},
   "outputs": [],
   "source": []
  },
  {
   "cell_type": "code",
   "execution_count": 409,
   "id": "b5269033",
   "metadata": {},
   "outputs": [],
   "source": [
    "                         \n",
    "df_predcciones_total.to_excel(\"./corpus/test-predicciones.xlsx\", index= False)"
   ]
  },
  {
   "cell_type": "code",
   "execution_count": 410,
   "id": "f6b7a9a2",
   "metadata": {},
   "outputs": [
    {
     "data": {
      "text/html": [
       "<div>\n",
       "<style scoped>\n",
       "    .dataframe tbody tr th:only-of-type {\n",
       "        vertical-align: middle;\n",
       "    }\n",
       "\n",
       "    .dataframe tbody tr th {\n",
       "        vertical-align: top;\n",
       "    }\n",
       "\n",
       "    .dataframe thead th {\n",
       "        text-align: right;\n",
       "    }\n",
       "</style>\n",
       "<table border=\"1\" class=\"dataframe\">\n",
       "  <thead>\n",
       "    <tr style=\"text-align: right;\">\n",
       "      <th></th>\n",
       "      <th>sports</th>\n",
       "      <th>heatlh</th>\n",
       "      <th>politic</th>\n",
       "      <th>document</th>\n",
       "      <th>class</th>\n",
       "      <th>name</th>\n",
       "      <th>predicted_class</th>\n",
       "      <th>probability</th>\n",
       "      <th>predicted_class</th>\n",
       "      <th>probability</th>\n",
       "    </tr>\n",
       "  </thead>\n",
       "  <tbody>\n",
       "    <tr>\n",
       "      <th>0</th>\n",
       "      <td>NaN</td>\n",
       "      <td>NaN</td>\n",
       "      <td>NaN</td>\n",
       "      <td>decisión gobierno central incrementar salario ...</td>\n",
       "      <td>2</td>\n",
       "      <td>Politica_26.txt</td>\n",
       "      <td>2.0</td>\n",
       "      <td>0.564046</td>\n",
       "      <td>2.0</td>\n",
       "      <td>0.564046</td>\n",
       "    </tr>\n",
       "    <tr>\n",
       "      <th>1</th>\n",
       "      <td>NaN</td>\n",
       "      <td>NaN</td>\n",
       "      <td>NaN</td>\n",
       "      <td>vitaminas lociones champús tratamientos cosmét...</td>\n",
       "      <td>1</td>\n",
       "      <td>Salud_39.txt</td>\n",
       "      <td>1.0</td>\n",
       "      <td>0.682917</td>\n",
       "      <td>1.0</td>\n",
       "      <td>0.682917</td>\n",
       "    </tr>\n",
       "    <tr>\n",
       "      <th>2</th>\n",
       "      <td>NaN</td>\n",
       "      <td>NaN</td>\n",
       "      <td>NaN</td>\n",
       "      <td>real sociedad cita historia natalia arroyo via...</td>\n",
       "      <td>0</td>\n",
       "      <td>Deportes_30.txt</td>\n",
       "      <td>0.0</td>\n",
       "      <td>0.649947</td>\n",
       "      <td>0.0</td>\n",
       "      <td>0.649947</td>\n",
       "    </tr>\n",
       "    <tr>\n",
       "      <th>3</th>\n",
       "      <td>NaN</td>\n",
       "      <td>NaN</td>\n",
       "      <td>NaN</td>\n",
       "      <td>premio italia convirtió montaña emociones marc...</td>\n",
       "      <td>0</td>\n",
       "      <td>Deportes_6.txt</td>\n",
       "      <td>0.0</td>\n",
       "      <td>0.712958</td>\n",
       "      <td>0.0</td>\n",
       "      <td>0.712958</td>\n",
       "    </tr>\n",
       "    <tr>\n",
       "      <th>4</th>\n",
       "      <td>NaN</td>\n",
       "      <td>NaN</td>\n",
       "      <td>NaN</td>\n",
       "      <td>autoridad europea seguridad alimentaria aesa a...</td>\n",
       "      <td>1</td>\n",
       "      <td>Salud_33.txt</td>\n",
       "      <td>1.0</td>\n",
       "      <td>0.527182</td>\n",
       "      <td>1.0</td>\n",
       "      <td>0.527182</td>\n",
       "    </tr>\n",
       "    <tr>\n",
       "      <th>...</th>\n",
       "      <td>...</td>\n",
       "      <td>...</td>\n",
       "      <td>...</td>\n",
       "      <td>...</td>\n",
       "      <td>...</td>\n",
       "      <td>...</td>\n",
       "      <td>...</td>\n",
       "      <td>...</td>\n",
       "      <td>...</td>\n",
       "      <td>...</td>\n",
       "    </tr>\n",
       "    <tr>\n",
       "      <th>85</th>\n",
       "      <td>NaN</td>\n",
       "      <td>NaN</td>\n",
       "      <td>NaN</td>\n",
       "      <td>discusión eterna baloncesto grande tiempos pel...</td>\n",
       "      <td>0</td>\n",
       "      <td>Deportes_36.txt</td>\n",
       "      <td>0.0</td>\n",
       "      <td>0.387105</td>\n",
       "      <td>0.0</td>\n",
       "      <td>0.387105</td>\n",
       "    </tr>\n",
       "    <tr>\n",
       "      <th>86</th>\n",
       "      <td>NaN</td>\n",
       "      <td>NaN</td>\n",
       "      <td>NaN</td>\n",
       "      <td>hugo gonzález semifinal espaldanatación termin...</td>\n",
       "      <td>0</td>\n",
       "      <td>Deportes_60.txt</td>\n",
       "      <td>0.0</td>\n",
       "      <td>0.666295</td>\n",
       "      <td>0.0</td>\n",
       "      <td>0.666295</td>\n",
       "    </tr>\n",
       "    <tr>\n",
       "      <th>87</th>\n",
       "      <td>NaN</td>\n",
       "      <td>NaN</td>\n",
       "      <td>NaN</td>\n",
       "      <td>max verstappen consiguió domingo octava victor...</td>\n",
       "      <td>0</td>\n",
       "      <td>Deportes_4.txt</td>\n",
       "      <td>0.0</td>\n",
       "      <td>0.531542</td>\n",
       "      <td>0.0</td>\n",
       "      <td>0.531542</td>\n",
       "    </tr>\n",
       "    <tr>\n",
       "      <th>88</th>\n",
       "      <td>NaN</td>\n",
       "      <td>NaN</td>\n",
       "      <td>NaN</td>\n",
       "      <td>presidente república sergio mattarella encarga...</td>\n",
       "      <td>2</td>\n",
       "      <td>Politica_51.txt</td>\n",
       "      <td>2.0</td>\n",
       "      <td>0.583839</td>\n",
       "      <td>2.0</td>\n",
       "      <td>0.583839</td>\n",
       "    </tr>\n",
       "    <tr>\n",
       "      <th>89</th>\n",
       "      <td>NaN</td>\n",
       "      <td>NaN</td>\n",
       "      <td>NaN</td>\n",
       "      <td>gol benfica minuto israel jornada fase grupos ...</td>\n",
       "      <td>0</td>\n",
       "      <td>Deportes_24.txt</td>\n",
       "      <td>0.0</td>\n",
       "      <td>0.767889</td>\n",
       "      <td>0.0</td>\n",
       "      <td>0.767889</td>\n",
       "    </tr>\n",
       "  </tbody>\n",
       "</table>\n",
       "<p>90 rows × 10 columns</p>\n",
       "</div>"
      ],
      "text/plain": [
       "    sports  heatlh  politic  \\\n",
       "0      NaN     NaN      NaN   \n",
       "1      NaN     NaN      NaN   \n",
       "2      NaN     NaN      NaN   \n",
       "3      NaN     NaN      NaN   \n",
       "4      NaN     NaN      NaN   \n",
       "..     ...     ...      ...   \n",
       "85     NaN     NaN      NaN   \n",
       "86     NaN     NaN      NaN   \n",
       "87     NaN     NaN      NaN   \n",
       "88     NaN     NaN      NaN   \n",
       "89     NaN     NaN      NaN   \n",
       "\n",
       "                                             document  class             name  \\\n",
       "0   decisión gobierno central incrementar salario ...      2  Politica_26.txt   \n",
       "1   vitaminas lociones champús tratamientos cosmét...      1     Salud_39.txt   \n",
       "2   real sociedad cita historia natalia arroyo via...      0  Deportes_30.txt   \n",
       "3   premio italia convirtió montaña emociones marc...      0   Deportes_6.txt   \n",
       "4   autoridad europea seguridad alimentaria aesa a...      1     Salud_33.txt   \n",
       "..                                                ...    ...              ...   \n",
       "85  discusión eterna baloncesto grande tiempos pel...      0  Deportes_36.txt   \n",
       "86  hugo gonzález semifinal espaldanatación termin...      0  Deportes_60.txt   \n",
       "87  max verstappen consiguió domingo octava victor...      0   Deportes_4.txt   \n",
       "88  presidente república sergio mattarella encarga...      2  Politica_51.txt   \n",
       "89  gol benfica minuto israel jornada fase grupos ...      0  Deportes_24.txt   \n",
       "\n",
       "    predicted_class  probability  predicted_class  probability  \n",
       "0               2.0     0.564046              2.0     0.564046  \n",
       "1               1.0     0.682917              1.0     0.682917  \n",
       "2               0.0     0.649947              0.0     0.649947  \n",
       "3               0.0     0.712958              0.0     0.712958  \n",
       "4               1.0     0.527182              1.0     0.527182  \n",
       "..              ...          ...              ...          ...  \n",
       "85              0.0     0.387105              0.0     0.387105  \n",
       "86              0.0     0.666295              0.0     0.666295  \n",
       "87              0.0     0.531542              0.0     0.531542  \n",
       "88              2.0     0.583839              2.0     0.583839  \n",
       "89              0.0     0.767889              0.0     0.767889  \n",
       "\n",
       "[90 rows x 10 columns]"
      ]
     },
     "execution_count": 410,
     "metadata": {},
     "output_type": "execute_result"
    }
   ],
   "source": [
    "df_predcciones_total"
   ]
  },
  {
   "cell_type": "code",
   "execution_count": null,
   "id": "7bd70172",
   "metadata": {},
   "outputs": [],
   "source": []
  },
  {
   "cell_type": "markdown",
   "id": "P2oa5EYulYE3",
   "metadata": {
    "id": "P2oa5EYulYE3"
   },
   "source": [
    "### Gaussian Naive Bayes"
   ]
  },
  {
   "cell_type": "code",
   "execution_count": 411,
   "id": "d666c528",
   "metadata": {
    "id": "d666c528",
    "outputId": "327ac4b3-c5e0-4e52-97b4-71420f333315"
   },
   "outputs": [
    {
     "data": {
      "text/plain": [
       "\"gaussian_naive_bayes = GaussianNB()\\ntry_model(gaussian_naive_bayes, x_train, y_train, x_test, y_test, 'gaussiano')\\np_prediction_df = predictions_to_excel(predicciones,prob_predicciones)\\n\\np_prediction_df = pd.concat([test_df,p_prediction_df],axis=1).ffill()    \\np_prediction_df[p_prediction_df['class'] != p_prediction_df['predicted_class']]\""
      ]
     },
     "execution_count": 411,
     "metadata": {},
     "output_type": "execute_result"
    }
   ],
   "source": [
    "\n",
    "'''gaussian_naive_bayes = GaussianNB()\n",
    "try_model(gaussian_naive_bayes, x_train, y_train, x_test, y_test, 'gaussiano')\n",
    "p_prediction_df = predictions_to_excel(predicciones,prob_predicciones)\n",
    "\n",
    "p_prediction_df = pd.concat([test_df,p_prediction_df],axis=1).ffill()    \n",
    "p_prediction_df[p_prediction_df['class'] != p_prediction_df['predicted_class']]'''"
   ]
  },
  {
   "cell_type": "markdown",
   "id": "c3jt9MLblcCg",
   "metadata": {
    "id": "c3jt9MLblcCg"
   },
   "source": [
    "### Brenouilli Naive Bayes"
   ]
  },
  {
   "cell_type": "code",
   "execution_count": 412,
   "id": "95de6288",
   "metadata": {
    "id": "95de6288",
    "outputId": "1b7f7ffb-6faa-425c-e0d7-b24f287edb88"
   },
   "outputs": [
    {
     "data": {
      "text/plain": [
       "\"\\nbernouilli_naive_bayes = BernoulliNB()\\ntry_model(bernouilli_naive_bayes, x_train, y_train, x_test, y_test,  'brenoulli')\""
      ]
     },
     "execution_count": 412,
     "metadata": {},
     "output_type": "execute_result"
    }
   ],
   "source": [
    "'''\n",
    "bernouilli_naive_bayes = BernoulliNB()\n",
    "try_model(bernouilli_naive_bayes, x_train, y_train, x_test, y_test,  'brenoulli')'''"
   ]
  },
  {
   "cell_type": "code",
   "execution_count": null,
   "id": "16eead53",
   "metadata": {
    "id": "16eead53"
   },
   "outputs": [],
   "source": []
  },
  {
   "cell_type": "code",
   "execution_count": null,
   "id": "e28e973f",
   "metadata": {},
   "outputs": [],
   "source": []
  }
 ],
 "metadata": {
  "colab": {
   "provenance": []
  },
  "kernelspec": {
   "display_name": "Python 3 (ipykernel)",
   "language": "python",
   "name": "python3"
  },
  "language_info": {
   "codemirror_mode": {
    "name": "ipython",
    "version": 3
   },
   "file_extension": ".py",
   "mimetype": "text/x-python",
   "name": "python",
   "nbconvert_exporter": "python",
   "pygments_lexer": "ipython3",
   "version": "3.11.0"
  }
 },
 "nbformat": 4,
 "nbformat_minor": 5
}
